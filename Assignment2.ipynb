{
 "cells": [
  {
   "cell_type": "code",
   "execution_count": 1,
   "metadata": {},
   "outputs": [],
   "source": [
    "import pandas as pd\n",
    "import numpy as np\n",
    "import seaborn as sns\n",
    "import matplotlib.pyplot as plt\n",
    "from statsmodels.formula.api import ols\n",
    "from sklearn.linear_model import LinearRegression\n",
    "from sklearn.metrics import r2_score, mean_squared_error\n",
    "import scipy.stats as stats\n",
    "from sklearn.impute import SimpleImputer\n",
    "from sklearn.model_selection import train_test_split\n",
    "from sklearn.metrics import mean_absolute_error, mean_squared_error"
   ]
  },
  {
   "cell_type": "code",
   "execution_count": 2,
   "metadata": {},
   "outputs": [],
   "source": [
    "customers_df = pd.read_csv('https://raw.githubusercontent.com/delinai/schulich_ds1_2024/main/Datasets/customers_final.csv')\n",
    "engagements_df = pd.read_csv('https://raw.githubusercontent.com/delinai/schulich_ds1_2024/main/Datasets/engagements_final.csv')\n",
    "marketing_df = pd.read_csv('https://raw.githubusercontent.com/delinai/schulich_ds1_2024/main/Datasets/marketing_final.csv')\n",
    "transactions_df = pd.read_csv('https://raw.githubusercontent.com/delinai/schulich_ds1_2024/main/Datasets/transactions_final.csv')"
   ]
  },
  {
   "cell_type": "code",
   "execution_count": 3,
   "metadata": {},
   "outputs": [
    {
     "name": "stdout",
     "output_type": "stream",
     "text": [
      "<class 'pandas.core.frame.DataFrame'>\n",
      "RangeIndex: 10000 entries, 0 to 9999\n",
      "Data columns (total 6 columns):\n",
      " #   Column              Non-Null Count  Dtype  \n",
      "---  ------              --------------  -----  \n",
      " 0   customer_id         10000 non-null  int64  \n",
      " 1   join_date           10000 non-null  object \n",
      " 2   last_purchase_date  10000 non-null  object \n",
      " 3   age                 8991 non-null   float64\n",
      " 4   gender              9467 non-null   object \n",
      " 5   location            10000 non-null  object \n",
      "dtypes: float64(1), int64(1), object(4)\n",
      "memory usage: 468.9+ KB\n"
     ]
    }
   ],
   "source": [
    "customers_df.info()"
   ]
  },
  {
   "cell_type": "code",
   "execution_count": 4,
   "metadata": {},
   "outputs": [],
   "source": [
    "customers_df['join_date'] = pd.to_datetime(customers_df['join_date'])\n",
    "customers_df['last_purchase_date'] = pd.to_datetime(customers_df['last_purchase_date'])"
   ]
  },
  {
   "cell_type": "code",
   "execution_count": 5,
   "metadata": {},
   "outputs": [
    {
     "name": "stdout",
     "output_type": "stream",
     "text": [
      "<class 'pandas.core.frame.DataFrame'>\n",
      "RangeIndex: 129545 entries, 0 to 129544\n",
      "Data columns (total 5 columns):\n",
      " #   Column              Non-Null Count   Dtype  \n",
      "---  ------              --------------   -----  \n",
      " 0   transaction_id      129545 non-null  int64  \n",
      " 1   customer_id         129545 non-null  int64  \n",
      " 2   transaction_date    129545 non-null  object \n",
      " 3   transaction_amount  129545 non-null  float64\n",
      " 4   product_category    129545 non-null  object \n",
      "dtypes: float64(1), int64(2), object(2)\n",
      "memory usage: 4.9+ MB\n"
     ]
    }
   ],
   "source": [
    "transactions_df.info()"
   ]
  },
  {
   "cell_type": "code",
   "execution_count": 6,
   "metadata": {},
   "outputs": [],
   "source": [
    "#Convert trasaction_date to datetime, product_category to category\n",
    "transactions_df['transaction_date'] = pd.to_datetime(transactions_df['transaction_date'])\n",
    "transactions_df['product_category'] = transactions_df['product_category'].astype('category')"
   ]
  },
  {
   "cell_type": "code",
   "execution_count": 7,
   "metadata": {},
   "outputs": [
    {
     "name": "stdout",
     "output_type": "stream",
     "text": [
      "<class 'pandas.core.frame.DataFrame'>\n",
      "RangeIndex: 25200 entries, 0 to 25199\n",
      "Data columns (total 5 columns):\n",
      " #   Column          Non-Null Count  Dtype \n",
      "---  ------          --------------  ----- \n",
      " 0   campaign_id     25200 non-null  int64 \n",
      " 1   customer_id     25200 non-null  int64 \n",
      " 2   response        25200 non-null  object\n",
      " 3   promotion_type  25200 non-null  object\n",
      " 4   campaign_date   25200 non-null  object\n",
      "dtypes: int64(2), object(3)\n",
      "memory usage: 984.5+ KB\n"
     ]
    }
   ],
   "source": [
    "marketing_df.info()"
   ]
  },
  {
   "cell_type": "code",
   "execution_count": 8,
   "metadata": {},
   "outputs": [],
   "source": [
    "#Convert campaign_date data type to date in marketing_df\n",
    "marketing_df['campaign_date'] = pd.to_datetime(marketing_df['campaign_date'])"
   ]
  },
  {
   "cell_type": "code",
   "execution_count": 9,
   "metadata": {},
   "outputs": [
    {
     "name": "stdout",
     "output_type": "stream",
     "text": [
      "<class 'pandas.core.frame.DataFrame'>\n",
      "RangeIndex: 10000 entries, 0 to 9999\n",
      "Data columns (total 4 columns):\n",
      " #   Column                   Non-Null Count  Dtype\n",
      "---  ------                   --------------  -----\n",
      " 0   customer_id              10000 non-null  int64\n",
      " 1   number_of_site_visits    10000 non-null  int64\n",
      " 2   number_of_emails_opened  10000 non-null  int64\n",
      " 3   number_of_clicks         10000 non-null  int64\n",
      "dtypes: int64(4)\n",
      "memory usage: 312.6 KB\n"
     ]
    }
   ],
   "source": [
    "engagements_df.info()"
   ]
  },
  {
   "cell_type": "code",
   "execution_count": 10,
   "metadata": {},
   "outputs": [
    {
     "data": {
      "text/html": [
       "<div>\n",
       "<style scoped>\n",
       "    .dataframe tbody tr th:only-of-type {\n",
       "        vertical-align: middle;\n",
       "    }\n",
       "\n",
       "    .dataframe tbody tr th {\n",
       "        vertical-align: top;\n",
       "    }\n",
       "\n",
       "    .dataframe thead th {\n",
       "        text-align: right;\n",
       "    }\n",
       "</style>\n",
       "<table border=\"1\" class=\"dataframe\">\n",
       "  <thead>\n",
       "    <tr style=\"text-align: right;\">\n",
       "      <th></th>\n",
       "      <th>transaction_id</th>\n",
       "      <th>customer_id</th>\n",
       "      <th>transaction_date</th>\n",
       "      <th>transaction_amount</th>\n",
       "      <th>product_category</th>\n",
       "    </tr>\n",
       "  </thead>\n",
       "  <tbody>\n",
       "    <tr>\n",
       "      <th>0</th>\n",
       "      <td>1</td>\n",
       "      <td>1</td>\n",
       "      <td>2024-02-03</td>\n",
       "      <td>165.56</td>\n",
       "      <td>Clothing</td>\n",
       "    </tr>\n",
       "    <tr>\n",
       "      <th>1</th>\n",
       "      <td>2</td>\n",
       "      <td>1</td>\n",
       "      <td>2024-03-02</td>\n",
       "      <td>699.01</td>\n",
       "      <td>Home Goods</td>\n",
       "    </tr>\n",
       "    <tr>\n",
       "      <th>2</th>\n",
       "      <td>3</td>\n",
       "      <td>1</td>\n",
       "      <td>2024-03-12</td>\n",
       "      <td>146.86</td>\n",
       "      <td>Home Goods</td>\n",
       "    </tr>\n",
       "    <tr>\n",
       "      <th>3</th>\n",
       "      <td>4</td>\n",
       "      <td>1</td>\n",
       "      <td>2024-01-20</td>\n",
       "      <td>927.46</td>\n",
       "      <td>Electronics</td>\n",
       "    </tr>\n",
       "    <tr>\n",
       "      <th>4</th>\n",
       "      <td>5</td>\n",
       "      <td>1</td>\n",
       "      <td>2024-02-25</td>\n",
       "      <td>1395.87</td>\n",
       "      <td>Electronics</td>\n",
       "    </tr>\n",
       "  </tbody>\n",
       "</table>\n",
       "</div>"
      ],
      "text/plain": [
       "   transaction_id  customer_id transaction_date  transaction_amount  \\\n",
       "0               1            1       2024-02-03              165.56   \n",
       "1               2            1       2024-03-02              699.01   \n",
       "2               3            1       2024-03-12              146.86   \n",
       "3               4            1       2024-01-20              927.46   \n",
       "4               5            1       2024-02-25             1395.87   \n",
       "\n",
       "  product_category  \n",
       "0         Clothing  \n",
       "1       Home Goods  \n",
       "2       Home Goods  \n",
       "3      Electronics  \n",
       "4      Electronics  "
      ]
     },
     "execution_count": 10,
     "metadata": {},
     "output_type": "execute_result"
    }
   ],
   "source": [
    "transactions_df.head()"
   ]
  },
  {
   "cell_type": "code",
   "execution_count": 11,
   "metadata": {},
   "outputs": [
    {
     "data": {
      "text/html": [
       "<div>\n",
       "<style scoped>\n",
       "    .dataframe tbody tr th:only-of-type {\n",
       "        vertical-align: middle;\n",
       "    }\n",
       "\n",
       "    .dataframe tbody tr th {\n",
       "        vertical-align: top;\n",
       "    }\n",
       "\n",
       "    .dataframe thead th {\n",
       "        text-align: right;\n",
       "    }\n",
       "</style>\n",
       "<table border=\"1\" class=\"dataframe\">\n",
       "  <thead>\n",
       "    <tr style=\"text-align: right;\">\n",
       "      <th></th>\n",
       "      <th>customer_id</th>\n",
       "      <th>join_date</th>\n",
       "      <th>last_purchase_date</th>\n",
       "      <th>age</th>\n",
       "      <th>gender</th>\n",
       "      <th>location</th>\n",
       "    </tr>\n",
       "  </thead>\n",
       "  <tbody>\n",
       "    <tr>\n",
       "      <th>0</th>\n",
       "      <td>1</td>\n",
       "      <td>2023-11-20</td>\n",
       "      <td>2024-03-17</td>\n",
       "      <td>56.0</td>\n",
       "      <td>Female</td>\n",
       "      <td>North Shannonbury</td>\n",
       "    </tr>\n",
       "    <tr>\n",
       "      <th>1</th>\n",
       "      <td>2</td>\n",
       "      <td>2021-09-08</td>\n",
       "      <td>2023-10-25</td>\n",
       "      <td>NaN</td>\n",
       "      <td>Male</td>\n",
       "      <td>Hillville</td>\n",
       "    </tr>\n",
       "    <tr>\n",
       "      <th>2</th>\n",
       "      <td>3</td>\n",
       "      <td>2021-06-01</td>\n",
       "      <td>2022-11-27</td>\n",
       "      <td>NaN</td>\n",
       "      <td>NaN</td>\n",
       "      <td>North Latoyatown</td>\n",
       "    </tr>\n",
       "    <tr>\n",
       "      <th>3</th>\n",
       "      <td>4</td>\n",
       "      <td>2022-01-01</td>\n",
       "      <td>2022-09-01</td>\n",
       "      <td>29.0</td>\n",
       "      <td>Male</td>\n",
       "      <td>Grossstad</td>\n",
       "    </tr>\n",
       "    <tr>\n",
       "      <th>4</th>\n",
       "      <td>5</td>\n",
       "      <td>2022-01-24</td>\n",
       "      <td>2023-06-02</td>\n",
       "      <td>NaN</td>\n",
       "      <td>Male</td>\n",
       "      <td>East Matthewfort</td>\n",
       "    </tr>\n",
       "  </tbody>\n",
       "</table>\n",
       "</div>"
      ],
      "text/plain": [
       "   customer_id  join_date last_purchase_date   age  gender           location\n",
       "0            1 2023-11-20         2024-03-17  56.0  Female  North Shannonbury\n",
       "1            2 2021-09-08         2023-10-25   NaN    Male          Hillville\n",
       "2            3 2021-06-01         2022-11-27   NaN     NaN   North Latoyatown\n",
       "3            4 2022-01-01         2022-09-01  29.0    Male          Grossstad\n",
       "4            5 2022-01-24         2023-06-02   NaN    Male   East Matthewfort"
      ]
     },
     "execution_count": 11,
     "metadata": {},
     "output_type": "execute_result"
    }
   ],
   "source": [
    "customers_df.head()"
   ]
  },
  {
   "cell_type": "code",
   "execution_count": 12,
   "metadata": {},
   "outputs": [
    {
     "data": {
      "text/html": [
       "<div>\n",
       "<style scoped>\n",
       "    .dataframe tbody tr th:only-of-type {\n",
       "        vertical-align: middle;\n",
       "    }\n",
       "\n",
       "    .dataframe tbody tr th {\n",
       "        vertical-align: top;\n",
       "    }\n",
       "\n",
       "    .dataframe thead th {\n",
       "        text-align: right;\n",
       "    }\n",
       "</style>\n",
       "<table border=\"1\" class=\"dataframe\">\n",
       "  <thead>\n",
       "    <tr style=\"text-align: right;\">\n",
       "      <th></th>\n",
       "      <th>campaign_id</th>\n",
       "      <th>customer_id</th>\n",
       "      <th>response</th>\n",
       "      <th>promotion_type</th>\n",
       "      <th>campaign_date</th>\n",
       "    </tr>\n",
       "  </thead>\n",
       "  <tbody>\n",
       "    <tr>\n",
       "      <th>0</th>\n",
       "      <td>1</td>\n",
       "      <td>1</td>\n",
       "      <td>No</td>\n",
       "      <td>Buy One Get One</td>\n",
       "      <td>2024-02-29</td>\n",
       "    </tr>\n",
       "    <tr>\n",
       "      <th>1</th>\n",
       "      <td>2</td>\n",
       "      <td>1</td>\n",
       "      <td>No</td>\n",
       "      <td>Discount</td>\n",
       "      <td>2024-01-24</td>\n",
       "    </tr>\n",
       "    <tr>\n",
       "      <th>2</th>\n",
       "      <td>3</td>\n",
       "      <td>1</td>\n",
       "      <td>No</td>\n",
       "      <td>Free Shipping</td>\n",
       "      <td>2024-03-05</td>\n",
       "    </tr>\n",
       "    <tr>\n",
       "      <th>3</th>\n",
       "      <td>4</td>\n",
       "      <td>1</td>\n",
       "      <td>Yes</td>\n",
       "      <td>Buy One Get One</td>\n",
       "      <td>2024-01-10</td>\n",
       "    </tr>\n",
       "    <tr>\n",
       "      <th>4</th>\n",
       "      <td>5</td>\n",
       "      <td>2</td>\n",
       "      <td>Yes</td>\n",
       "      <td>Free Shipping</td>\n",
       "      <td>2022-07-08</td>\n",
       "    </tr>\n",
       "  </tbody>\n",
       "</table>\n",
       "</div>"
      ],
      "text/plain": [
       "   campaign_id  customer_id response   promotion_type campaign_date\n",
       "0            1            1       No  Buy One Get One    2024-02-29\n",
       "1            2            1       No         Discount    2024-01-24\n",
       "2            3            1       No    Free Shipping    2024-03-05\n",
       "3            4            1      Yes  Buy One Get One    2024-01-10\n",
       "4            5            2      Yes    Free Shipping    2022-07-08"
      ]
     },
     "execution_count": 12,
     "metadata": {},
     "output_type": "execute_result"
    }
   ],
   "source": [
    "marketing_df.head()"
   ]
  },
  {
   "cell_type": "code",
   "execution_count": 13,
   "metadata": {},
   "outputs": [
    {
     "data": {
      "text/html": [
       "<div>\n",
       "<style scoped>\n",
       "    .dataframe tbody tr th:only-of-type {\n",
       "        vertical-align: middle;\n",
       "    }\n",
       "\n",
       "    .dataframe tbody tr th {\n",
       "        vertical-align: top;\n",
       "    }\n",
       "\n",
       "    .dataframe thead th {\n",
       "        text-align: right;\n",
       "    }\n",
       "</style>\n",
       "<table border=\"1\" class=\"dataframe\">\n",
       "  <thead>\n",
       "    <tr style=\"text-align: right;\">\n",
       "      <th></th>\n",
       "      <th>customer_id</th>\n",
       "      <th>number_of_site_visits</th>\n",
       "      <th>number_of_emails_opened</th>\n",
       "      <th>number_of_clicks</th>\n",
       "    </tr>\n",
       "  </thead>\n",
       "  <tbody>\n",
       "    <tr>\n",
       "      <th>0</th>\n",
       "      <td>1</td>\n",
       "      <td>10</td>\n",
       "      <td>15</td>\n",
       "      <td>1</td>\n",
       "    </tr>\n",
       "    <tr>\n",
       "      <th>1</th>\n",
       "      <td>2</td>\n",
       "      <td>285</td>\n",
       "      <td>49</td>\n",
       "      <td>51</td>\n",
       "    </tr>\n",
       "    <tr>\n",
       "      <th>2</th>\n",
       "      <td>3</td>\n",
       "      <td>192</td>\n",
       "      <td>73</td>\n",
       "      <td>25</td>\n",
       "    </tr>\n",
       "    <tr>\n",
       "      <th>3</th>\n",
       "      <td>4</td>\n",
       "      <td>110</td>\n",
       "      <td>30</td>\n",
       "      <td>17</td>\n",
       "    </tr>\n",
       "    <tr>\n",
       "      <th>4</th>\n",
       "      <td>5</td>\n",
       "      <td>161</td>\n",
       "      <td>2</td>\n",
       "      <td>7</td>\n",
       "    </tr>\n",
       "  </tbody>\n",
       "</table>\n",
       "</div>"
      ],
      "text/plain": [
       "   customer_id  number_of_site_visits  number_of_emails_opened  \\\n",
       "0            1                     10                       15   \n",
       "1            2                    285                       49   \n",
       "2            3                    192                       73   \n",
       "3            4                    110                       30   \n",
       "4            5                    161                        2   \n",
       "\n",
       "   number_of_clicks  \n",
       "0                 1  \n",
       "1                51  \n",
       "2                25  \n",
       "3                17  \n",
       "4                 7  "
      ]
     },
     "execution_count": 13,
     "metadata": {},
     "output_type": "execute_result"
    }
   ],
   "source": [
    "engagements_df.head()"
   ]
  },
  {
   "cell_type": "code",
   "execution_count": 14,
   "metadata": {},
   "outputs": [
    {
     "data": {
      "text/plain": [
       "transaction_id        0.0\n",
       "customer_id           0.0\n",
       "transaction_date      0.0\n",
       "transaction_amount    0.0\n",
       "product_category      0.0\n",
       "dtype: float64"
      ]
     },
     "execution_count": 14,
     "metadata": {},
     "output_type": "execute_result"
    }
   ],
   "source": [
    "transactions_df.isnull().sum()/100 "
   ]
  },
  {
   "cell_type": "code",
   "execution_count": 15,
   "metadata": {},
   "outputs": [
    {
     "data": {
      "text/plain": [
       "campaign_id       0.0\n",
       "customer_id       0.0\n",
       "response          0.0\n",
       "promotion_type    0.0\n",
       "campaign_date     0.0\n",
       "dtype: float64"
      ]
     },
     "execution_count": 15,
     "metadata": {},
     "output_type": "execute_result"
    }
   ],
   "source": [
    "marketing_df.isnull().sum()/100 "
   ]
  },
  {
   "cell_type": "code",
   "execution_count": 16,
   "metadata": {},
   "outputs": [
    {
     "data": {
      "text/plain": [
       "customer_id                0.0\n",
       "number_of_site_visits      0.0\n",
       "number_of_emails_opened    0.0\n",
       "number_of_clicks           0.0\n",
       "dtype: float64"
      ]
     },
     "execution_count": 16,
     "metadata": {},
     "output_type": "execute_result"
    }
   ],
   "source": [
    "engagements_df.isnull().sum()/100 "
   ]
  },
  {
   "cell_type": "code",
   "execution_count": 17,
   "metadata": {},
   "outputs": [
    {
     "data": {
      "text/plain": [
       "customer_id            0.00\n",
       "join_date              0.00\n",
       "last_purchase_date     0.00\n",
       "age                   10.09\n",
       "gender                 5.33\n",
       "location               0.00\n",
       "dtype: float64"
      ]
     },
     "execution_count": 17,
     "metadata": {},
     "output_type": "execute_result"
    }
   ],
   "source": [
    "customers_df.isnull().sum()/100 "
   ]
  },
  {
   "cell_type": "code",
   "execution_count": 18,
   "metadata": {},
   "outputs": [
    {
     "name": "stderr",
     "output_type": "stream",
     "text": [
      "/var/folders/95/mkx4bvf95x35657hmtzpc5fr0000gn/T/ipykernel_40951/985600695.py:1: FutureWarning: A value is trying to be set on a copy of a DataFrame or Series through chained assignment using an inplace method.\n",
      "The behavior will change in pandas 3.0. This inplace method will never work because the intermediate object on which we are setting values always behaves as a copy.\n",
      "\n",
      "For example, when doing 'df[col].method(value, inplace=True)', try using 'df.method({col: value}, inplace=True)' or df[col] = df[col].method(value) instead, to perform the operation inplace on the original object.\n",
      "\n",
      "\n",
      "  customers_df['age'].fillna(customers_df['age'].median(), inplace=True)\n",
      "/var/folders/95/mkx4bvf95x35657hmtzpc5fr0000gn/T/ipykernel_40951/985600695.py:2: FutureWarning: A value is trying to be set on a copy of a DataFrame or Series through chained assignment using an inplace method.\n",
      "The behavior will change in pandas 3.0. This inplace method will never work because the intermediate object on which we are setting values always behaves as a copy.\n",
      "\n",
      "For example, when doing 'df[col].method(value, inplace=True)', try using 'df.method({col: value}, inplace=True)' or df[col] = df[col].method(value) instead, to perform the operation inplace on the original object.\n",
      "\n",
      "\n",
      "  customers_df['gender'].fillna('Unknown', inplace=True)\n"
     ]
    }
   ],
   "source": [
    "customers_df['age'].fillna(customers_df['age'].median(), inplace=True)\n",
    "customers_df['gender'].fillna('Unknown', inplace=True)"
   ]
  },
  {
   "cell_type": "code",
   "execution_count": 19,
   "metadata": {},
   "outputs": [
    {
     "data": {
      "text/plain": [
       "customer_id           0.0\n",
       "join_date             0.0\n",
       "last_purchase_date    0.0\n",
       "age                   0.0\n",
       "gender                0.0\n",
       "location              0.0\n",
       "dtype: float64"
      ]
     },
     "execution_count": 19,
     "metadata": {},
     "output_type": "execute_result"
    }
   ],
   "source": [
    "customers_df.isnull().sum()/100 "
   ]
  },
  {
   "cell_type": "code",
   "execution_count": 20,
   "metadata": {},
   "outputs": [
    {
     "data": {
      "text/html": [
       "<div>\n",
       "<style scoped>\n",
       "    .dataframe tbody tr th:only-of-type {\n",
       "        vertical-align: middle;\n",
       "    }\n",
       "\n",
       "    .dataframe tbody tr th {\n",
       "        vertical-align: top;\n",
       "    }\n",
       "\n",
       "    .dataframe thead th {\n",
       "        text-align: right;\n",
       "    }\n",
       "</style>\n",
       "<table border=\"1\" class=\"dataframe\">\n",
       "  <thead>\n",
       "    <tr style=\"text-align: right;\">\n",
       "      <th></th>\n",
       "      <th>transaction_id</th>\n",
       "      <th>customer_id</th>\n",
       "      <th>transaction_date</th>\n",
       "      <th>transaction_amount</th>\n",
       "      <th>product_category</th>\n",
       "    </tr>\n",
       "  </thead>\n",
       "  <tbody>\n",
       "    <tr>\n",
       "      <th>0</th>\n",
       "      <td>1</td>\n",
       "      <td>1</td>\n",
       "      <td>2024-02-03</td>\n",
       "      <td>165.56</td>\n",
       "      <td>Clothing</td>\n",
       "    </tr>\n",
       "    <tr>\n",
       "      <th>1</th>\n",
       "      <td>2</td>\n",
       "      <td>1</td>\n",
       "      <td>2024-03-02</td>\n",
       "      <td>699.01</td>\n",
       "      <td>Home Goods</td>\n",
       "    </tr>\n",
       "    <tr>\n",
       "      <th>2</th>\n",
       "      <td>3</td>\n",
       "      <td>1</td>\n",
       "      <td>2024-03-12</td>\n",
       "      <td>146.86</td>\n",
       "      <td>Home Goods</td>\n",
       "    </tr>\n",
       "    <tr>\n",
       "      <th>3</th>\n",
       "      <td>4</td>\n",
       "      <td>1</td>\n",
       "      <td>2024-01-20</td>\n",
       "      <td>927.46</td>\n",
       "      <td>Electronics</td>\n",
       "    </tr>\n",
       "    <tr>\n",
       "      <th>4</th>\n",
       "      <td>5</td>\n",
       "      <td>1</td>\n",
       "      <td>2024-02-25</td>\n",
       "      <td>1395.87</td>\n",
       "      <td>Electronics</td>\n",
       "    </tr>\n",
       "  </tbody>\n",
       "</table>\n",
       "</div>"
      ],
      "text/plain": [
       "   transaction_id  customer_id transaction_date  transaction_amount  \\\n",
       "0               1            1       2024-02-03              165.56   \n",
       "1               2            1       2024-03-02              699.01   \n",
       "2               3            1       2024-03-12              146.86   \n",
       "3               4            1       2024-01-20              927.46   \n",
       "4               5            1       2024-02-25             1395.87   \n",
       "\n",
       "  product_category  \n",
       "0         Clothing  \n",
       "1       Home Goods  \n",
       "2       Home Goods  \n",
       "3      Electronics  \n",
       "4      Electronics  "
      ]
     },
     "execution_count": 20,
     "metadata": {},
     "output_type": "execute_result"
    }
   ],
   "source": [
    "transactions_df.head()"
   ]
  },
  {
   "cell_type": "code",
   "execution_count": 21,
   "metadata": {},
   "outputs": [
    {
     "data": {
      "text/plain": [
       "<Axes: ylabel='transaction_amount'>"
      ]
     },
     "execution_count": 21,
     "metadata": {},
     "output_type": "execute_result"
    },
    {
     "data": {
      "image/png": "[encoded data removed]",
      "text/plain": [
       "<Figure size 640x480 with 1 Axes>"
      ]
     },
     "metadata": {},
     "output_type": "display_data"
    }
   ],
   "source": [
    "sns.boxplot(y='transaction_amount',data=transactions_df)"
   ]
  },
  {
   "cell_type": "code",
   "execution_count": 22,
   "metadata": {},
   "outputs": [
    {
     "data": {
      "text/plain": [
       "<Axes: xlabel='product_category', ylabel='transaction_amount'>"
      ]
     },
     "execution_count": 22,
     "metadata": {},
     "output_type": "execute_result"
    },
    {
     "data": {
      "image/png": "[encoded data removed]",
      "text/plain": [
       "<Figure size 640x480 with 1 Axes>"
      ]
     },
     "metadata": {},
     "output_type": "display_data"
    }
   ],
   "source": [
    "\n",
    "sns.boxplot(x='product_category', y='transaction_amount', data=transactions_df)"
   ]
  },
  {
   "cell_type": "code",
   "execution_count": 23,
   "metadata": {},
   "outputs": [
    {
     "data": {
      "text/plain": [
       "<Axes: xlabel='number_of_site_visits', ylabel='Count'>"
      ]
     },
     "execution_count": 23,
     "metadata": {},
     "output_type": "execute_result"
    },
    {
     "data": {
      "image/png": "[encoded data removed]",
      "text/plain": [
       "<Figure size 640x480 with 1 Axes>"
      ]
     },
     "metadata": {},
     "output_type": "display_data"
    }
   ],
   "source": [
    "sns.histplot(engagements_df['number_of_site_visits'], bins=30, kde=True)"
   ]
  },
  {
   "cell_type": "code",
   "execution_count": 24,
   "metadata": {},
   "outputs": [
    {
     "data": {
      "text/plain": [
       "<Axes: xlabel='number_of_clicks', ylabel='Count'>"
      ]
     },
     "execution_count": 24,
     "metadata": {},
     "output_type": "execute_result"
    },
    {
     "data": {
      "image/png": "[encoded data removed]",
      "text/plain": [
       "<Figure size 640x480 with 1 Axes>"
      ]
     },
     "metadata": {},
     "output_type": "display_data"
    }
   ],
   "source": [
    "sns.histplot(engagements_df['number_of_clicks'], bins=30, kde=True)"
   ]
  },
  {
   "cell_type": "code",
   "execution_count": 25,
   "metadata": {},
   "outputs": [
    {
     "data": {
      "text/plain": [
       "<Axes: xlabel='number_of_emails_opened', ylabel='Count'>"
      ]
     },
     "execution_count": 25,
     "metadata": {},
     "output_type": "execute_result"
    },
    {
     "data": {
      "image/png": "[encoded data removed]",
      "text/plain": [
       "<Figure size 640x480 with 1 Axes>"
      ]
     },
     "metadata": {},
     "output_type": "display_data"
    }
   ],
   "source": [
    "sns.histplot(engagements_df['number_of_emails_opened'], bins=30, kde=True)"
   ]
  },
  {
   "cell_type": "code",
   "execution_count": 26,
   "metadata": {},
   "outputs": [],
   "source": [
    "#sns.countplot(y=customers_df['location'], order=customers_df['location'].value_counts().index)"
   ]
  },
  {
   "cell_type": "code",
   "execution_count": null,
   "metadata": {},
   "outputs": [],
   "source": []
  },
  {
   "cell_type": "markdown",
   "metadata": {},
   "source": [
    "Merging the datasets together"
   ]
  },
  {
   "cell_type": "code",
   "execution_count": 27,
   "metadata": {},
   "outputs": [],
   "source": [
    "marketing_agg = marketing_df[marketing_df['response']=='Yes'].groupby('customer_id')['campaign_id'].count().to_frame()"
   ]
  },
  {
   "cell_type": "code",
   "execution_count": 28,
   "metadata": {},
   "outputs": [],
   "source": [
    "transactions_agg = transactions_df.groupby('customer_id').aggregate({'transaction_id':'count','transaction_amount':'sum'})"
   ]
  },
  {
   "cell_type": "code",
   "execution_count": null,
   "metadata": {},
   "outputs": [],
   "source": []
  },
  {
   "cell_type": "code",
   "execution_count": 29,
   "metadata": {},
   "outputs": [],
   "source": [
    "#RFM model to assess recency, and frequency of each customer\n",
    "# Calculate recency\n",
    "latest_date = transactions_df['transaction_date'].max()\n",
    "recency = transactions_df.groupby('customer_id')['transaction_date'].max().reset_index()\n",
    "recency['recency'] = (latest_date - recency['transaction_date']).dt.days\n",
    "recency.drop(columns='transaction_date', inplace=True)\n",
    "\n",
    "# Calculate frequency\n",
    "frequency = transactions_df.groupby('customer_id')['transaction_id'].count().reset_index()\n",
    "frequency.columns = ['customer_id', 'frequency']\n",
    "\n",
    "# Monetary: Total amount spent by the customer\n",
    "#monetary_df = transactions_df.groupby('customer_id')['transaction_amount'].sum().reset_index(name='monetary')\n",
    "#customers_df = customers_df.merge(monetary_df, on='customer_id', how='left').fillna(0)\n",
    "\n",
    "# Merge RFM metrics\n",
    "rfm_df = pd.merge(recency, frequency, on='customer_id')"
   ]
  },
  {
   "cell_type": "code",
   "execution_count": 30,
   "metadata": {},
   "outputs": [],
   "source": [
    "#step 3: set customers and engagement index as customer_id\n",
    "customers_df.set_index('customer_id', inplace=True)\n",
    "engagements_df.set_index('customer_id', inplace=True)\n",
    "rfm_df.set_index('customer_id', inplace=True)"
   ]
  },
  {
   "cell_type": "code",
   "execution_count": 31,
   "metadata": {},
   "outputs": [],
   "source": [
    "df_merged = customers_df.join(engagements_df).join(transactions_agg).join(marketing_agg).join(rfm_df)"
   ]
  },
  {
   "cell_type": "code",
   "execution_count": 32,
   "metadata": {},
   "outputs": [
    {
     "data": {
      "text/html": [
       "<div>\n",
       "<style scoped>\n",
       "    .dataframe tbody tr th:only-of-type {\n",
       "        vertical-align: middle;\n",
       "    }\n",
       "\n",
       "    .dataframe tbody tr th {\n",
       "        vertical-align: top;\n",
       "    }\n",
       "\n",
       "    .dataframe thead th {\n",
       "        text-align: right;\n",
       "    }\n",
       "</style>\n",
       "<table border=\"1\" class=\"dataframe\">\n",
       "  <thead>\n",
       "    <tr style=\"text-align: right;\">\n",
       "      <th></th>\n",
       "      <th>join_date</th>\n",
       "      <th>last_purchase_date</th>\n",
       "      <th>age</th>\n",
       "      <th>gender</th>\n",
       "      <th>location</th>\n",
       "      <th>number_of_site_visits</th>\n",
       "      <th>number_of_emails_opened</th>\n",
       "      <th>number_of_clicks</th>\n",
       "      <th>transaction_id</th>\n",
       "      <th>transaction_amount</th>\n",
       "      <th>campaign_id</th>\n",
       "      <th>recency</th>\n",
       "      <th>frequency</th>\n",
       "    </tr>\n",
       "    <tr>\n",
       "      <th>customer_id</th>\n",
       "      <th></th>\n",
       "      <th></th>\n",
       "      <th></th>\n",
       "      <th></th>\n",
       "      <th></th>\n",
       "      <th></th>\n",
       "      <th></th>\n",
       "      <th></th>\n",
       "      <th></th>\n",
       "      <th></th>\n",
       "      <th></th>\n",
       "      <th></th>\n",
       "      <th></th>\n",
       "    </tr>\n",
       "  </thead>\n",
       "  <tbody>\n",
       "    <tr>\n",
       "      <th>1</th>\n",
       "      <td>2023-11-20</td>\n",
       "      <td>2024-03-17</td>\n",
       "      <td>56.0</td>\n",
       "      <td>Female</td>\n",
       "      <td>North Shannonbury</td>\n",
       "      <td>10</td>\n",
       "      <td>15</td>\n",
       "      <td>1</td>\n",
       "      <td>6</td>\n",
       "      <td>3509.48</td>\n",
       "      <td>1.0</td>\n",
       "      <td>80</td>\n",
       "      <td>6</td>\n",
       "    </tr>\n",
       "    <tr>\n",
       "      <th>2</th>\n",
       "      <td>2021-09-08</td>\n",
       "      <td>2023-10-25</td>\n",
       "      <td>44.0</td>\n",
       "      <td>Male</td>\n",
       "      <td>Hillville</td>\n",
       "      <td>285</td>\n",
       "      <td>49</td>\n",
       "      <td>51</td>\n",
       "      <td>9</td>\n",
       "      <td>6081.32</td>\n",
       "      <td>2.0</td>\n",
       "      <td>460</td>\n",
       "      <td>9</td>\n",
       "    </tr>\n",
       "    <tr>\n",
       "      <th>3</th>\n",
       "      <td>2021-06-01</td>\n",
       "      <td>2022-11-27</td>\n",
       "      <td>44.0</td>\n",
       "      <td>Unknown</td>\n",
       "      <td>North Latoyatown</td>\n",
       "      <td>192</td>\n",
       "      <td>73</td>\n",
       "      <td>25</td>\n",
       "      <td>6</td>\n",
       "      <td>1454.87</td>\n",
       "      <td>1.0</td>\n",
       "      <td>560</td>\n",
       "      <td>6</td>\n",
       "    </tr>\n",
       "    <tr>\n",
       "      <th>4</th>\n",
       "      <td>2022-01-01</td>\n",
       "      <td>2022-09-01</td>\n",
       "      <td>29.0</td>\n",
       "      <td>Male</td>\n",
       "      <td>Grossstad</td>\n",
       "      <td>110</td>\n",
       "      <td>30</td>\n",
       "      <td>17</td>\n",
       "      <td>20</td>\n",
       "      <td>7874.68</td>\n",
       "      <td>1.0</td>\n",
       "      <td>639</td>\n",
       "      <td>20</td>\n",
       "    </tr>\n",
       "    <tr>\n",
       "      <th>5</th>\n",
       "      <td>2022-01-24</td>\n",
       "      <td>2023-06-02</td>\n",
       "      <td>44.0</td>\n",
       "      <td>Male</td>\n",
       "      <td>East Matthewfort</td>\n",
       "      <td>161</td>\n",
       "      <td>2</td>\n",
       "      <td>7</td>\n",
       "      <td>24</td>\n",
       "      <td>15524.55</td>\n",
       "      <td>NaN</td>\n",
       "      <td>365</td>\n",
       "      <td>24</td>\n",
       "    </tr>\n",
       "    <tr>\n",
       "      <th>...</th>\n",
       "      <td>...</td>\n",
       "      <td>...</td>\n",
       "      <td>...</td>\n",
       "      <td>...</td>\n",
       "      <td>...</td>\n",
       "      <td>...</td>\n",
       "      <td>...</td>\n",
       "      <td>...</td>\n",
       "      <td>...</td>\n",
       "      <td>...</td>\n",
       "      <td>...</td>\n",
       "      <td>...</td>\n",
       "      <td>...</td>\n",
       "    </tr>\n",
       "    <tr>\n",
       "      <th>9996</th>\n",
       "      <td>2022-12-16</td>\n",
       "      <td>2023-08-13</td>\n",
       "      <td>42.0</td>\n",
       "      <td>Female</td>\n",
       "      <td>Johnstonborough</td>\n",
       "      <td>119</td>\n",
       "      <td>47</td>\n",
       "      <td>16</td>\n",
       "      <td>10</td>\n",
       "      <td>5498.20</td>\n",
       "      <td>NaN</td>\n",
       "      <td>355</td>\n",
       "      <td>10</td>\n",
       "    </tr>\n",
       "    <tr>\n",
       "      <th>9997</th>\n",
       "      <td>2022-07-09</td>\n",
       "      <td>2023-01-25</td>\n",
       "      <td>26.0</td>\n",
       "      <td>Male</td>\n",
       "      <td>Jessicamouth</td>\n",
       "      <td>3</td>\n",
       "      <td>33</td>\n",
       "      <td>14</td>\n",
       "      <td>12</td>\n",
       "      <td>5848.30</td>\n",
       "      <td>1.0</td>\n",
       "      <td>540</td>\n",
       "      <td>12</td>\n",
       "    </tr>\n",
       "    <tr>\n",
       "      <th>9998</th>\n",
       "      <td>2023-09-17</td>\n",
       "      <td>2024-01-30</td>\n",
       "      <td>39.0</td>\n",
       "      <td>Male</td>\n",
       "      <td>New John</td>\n",
       "      <td>53</td>\n",
       "      <td>17</td>\n",
       "      <td>5</td>\n",
       "      <td>3</td>\n",
       "      <td>3503.13</td>\n",
       "      <td>1.0</td>\n",
       "      <td>151</td>\n",
       "      <td>3</td>\n",
       "    </tr>\n",
       "    <tr>\n",
       "      <th>9999</th>\n",
       "      <td>2022-05-10</td>\n",
       "      <td>2022-07-15</td>\n",
       "      <td>31.0</td>\n",
       "      <td>Female</td>\n",
       "      <td>Andrewland</td>\n",
       "      <td>23</td>\n",
       "      <td>5</td>\n",
       "      <td>4</td>\n",
       "      <td>12</td>\n",
       "      <td>6721.86</td>\n",
       "      <td>NaN</td>\n",
       "      <td>687</td>\n",
       "      <td>12</td>\n",
       "    </tr>\n",
       "    <tr>\n",
       "      <th>10000</th>\n",
       "      <td>2023-05-26</td>\n",
       "      <td>2023-09-01</td>\n",
       "      <td>67.0</td>\n",
       "      <td>Male</td>\n",
       "      <td>Hollytown</td>\n",
       "      <td>12</td>\n",
       "      <td>12</td>\n",
       "      <td>7</td>\n",
       "      <td>10</td>\n",
       "      <td>5775.83</td>\n",
       "      <td>1.0</td>\n",
       "      <td>274</td>\n",
       "      <td>10</td>\n",
       "    </tr>\n",
       "  </tbody>\n",
       "</table>\n",
       "<p>10000 rows × 13 columns</p>\n",
       "</div>"
      ],
      "text/plain": [
       "             join_date last_purchase_date   age   gender           location  \\\n",
       "customer_id                                                                   \n",
       "1           2023-11-20         2024-03-17  56.0   Female  North Shannonbury   \n",
       "2           2021-09-08         2023-10-25  44.0     Male          Hillville   \n",
       "3           2021-06-01         2022-11-27  44.0  Unknown   North Latoyatown   \n",
       "4           2022-01-01         2022-09-01  29.0     Male          Grossstad   \n",
       "5           2022-01-24         2023-06-02  44.0     Male   East Matthewfort   \n",
       "...                ...                ...   ...      ...                ...   \n",
       "9996        2022-12-16         2023-08-13  42.0   Female    Johnstonborough   \n",
       "9997        2022-07-09         2023-01-25  26.0     Male       Jessicamouth   \n",
       "9998        2023-09-17         2024-01-30  39.0     Male           New John   \n",
       "9999        2022-05-10         2022-07-15  31.0   Female         Andrewland   \n",
       "10000       2023-05-26         2023-09-01  67.0     Male          Hollytown   \n",
       "\n",
       "             number_of_site_visits  number_of_emails_opened  number_of_clicks  \\\n",
       "customer_id                                                                     \n",
       "1                               10                       15                 1   \n",
       "2                              285                       49                51   \n",
       "3                              192                       73                25   \n",
       "4                              110                       30                17   \n",
       "5                              161                        2                 7   \n",
       "...                            ...                      ...               ...   \n",
       "9996                           119                       47                16   \n",
       "9997                             3                       33                14   \n",
       "9998                            53                       17                 5   \n",
       "9999                            23                        5                 4   \n",
       "10000                           12                       12                 7   \n",
       "\n",
       "             transaction_id  transaction_amount  campaign_id  recency  \\\n",
       "customer_id                                                             \n",
       "1                         6             3509.48          1.0       80   \n",
       "2                         9             6081.32          2.0      460   \n",
       "3                         6             1454.87          1.0      560   \n",
       "4                        20             7874.68          1.0      639   \n",
       "5                        24            15524.55          NaN      365   \n",
       "...                     ...                 ...          ...      ...   \n",
       "9996                     10             5498.20          NaN      355   \n",
       "9997                     12             5848.30          1.0      540   \n",
       "9998                      3             3503.13          1.0      151   \n",
       "9999                     12             6721.86          NaN      687   \n",
       "10000                    10             5775.83          1.0      274   \n",
       "\n",
       "             frequency  \n",
       "customer_id             \n",
       "1                    6  \n",
       "2                    9  \n",
       "3                    6  \n",
       "4                   20  \n",
       "5                   24  \n",
       "...                ...  \n",
       "9996                10  \n",
       "9997                12  \n",
       "9998                 3  \n",
       "9999                12  \n",
       "10000               10  \n",
       "\n",
       "[10000 rows x 13 columns]"
      ]
     },
     "execution_count": 32,
     "metadata": {},
     "output_type": "execute_result"
    }
   ],
   "source": [
    "df_merged"
   ]
  },
  {
   "cell_type": "code",
   "execution_count": 33,
   "metadata": {},
   "outputs": [],
   "source": [
    "# Lifetime Value (LTV): Time since the customer joined\n",
    "df_merged['tenure'] = (df_merged['last_purchase_date'] - df_merged['join_date']).dt.days"
   ]
  },
  {
   "cell_type": "code",
   "execution_count": 34,
   "metadata": {},
   "outputs": [
    {
     "data": {
      "text/html": [
       "<div>\n",
       "<style scoped>\n",
       "    .dataframe tbody tr th:only-of-type {\n",
       "        vertical-align: middle;\n",
       "    }\n",
       "\n",
       "    .dataframe tbody tr th {\n",
       "        vertical-align: top;\n",
       "    }\n",
       "\n",
       "    .dataframe thead th {\n",
       "        text-align: right;\n",
       "    }\n",
       "</style>\n",
       "<table border=\"1\" class=\"dataframe\">\n",
       "  <thead>\n",
       "    <tr style=\"text-align: right;\">\n",
       "      <th></th>\n",
       "      <th>join_date</th>\n",
       "      <th>last_purchase_date</th>\n",
       "      <th>age</th>\n",
       "      <th>gender</th>\n",
       "      <th>location</th>\n",
       "      <th>number_of_site_visits</th>\n",
       "      <th>number_of_emails_opened</th>\n",
       "      <th>number_of_clicks</th>\n",
       "      <th>transaction_id</th>\n",
       "      <th>transaction_amount</th>\n",
       "      <th>campaign_id</th>\n",
       "      <th>recency</th>\n",
       "      <th>frequency</th>\n",
       "      <th>tenure</th>\n",
       "    </tr>\n",
       "    <tr>\n",
       "      <th>customer_id</th>\n",
       "      <th></th>\n",
       "      <th></th>\n",
       "      <th></th>\n",
       "      <th></th>\n",
       "      <th></th>\n",
       "      <th></th>\n",
       "      <th></th>\n",
       "      <th></th>\n",
       "      <th></th>\n",
       "      <th></th>\n",
       "      <th></th>\n",
       "      <th></th>\n",
       "      <th></th>\n",
       "      <th></th>\n",
       "    </tr>\n",
       "  </thead>\n",
       "  <tbody>\n",
       "    <tr>\n",
       "      <th>1</th>\n",
       "      <td>2023-11-20</td>\n",
       "      <td>2024-03-17</td>\n",
       "      <td>56.0</td>\n",
       "      <td>Female</td>\n",
       "      <td>North Shannonbury</td>\n",
       "      <td>10</td>\n",
       "      <td>15</td>\n",
       "      <td>1</td>\n",
       "      <td>6</td>\n",
       "      <td>3509.48</td>\n",
       "      <td>1.0</td>\n",
       "      <td>80</td>\n",
       "      <td>6</td>\n",
       "      <td>118</td>\n",
       "    </tr>\n",
       "    <tr>\n",
       "      <th>2</th>\n",
       "      <td>2021-09-08</td>\n",
       "      <td>2023-10-25</td>\n",
       "      <td>44.0</td>\n",
       "      <td>Male</td>\n",
       "      <td>Hillville</td>\n",
       "      <td>285</td>\n",
       "      <td>49</td>\n",
       "      <td>51</td>\n",
       "      <td>9</td>\n",
       "      <td>6081.32</td>\n",
       "      <td>2.0</td>\n",
       "      <td>460</td>\n",
       "      <td>9</td>\n",
       "      <td>777</td>\n",
       "    </tr>\n",
       "    <tr>\n",
       "      <th>3</th>\n",
       "      <td>2021-06-01</td>\n",
       "      <td>2022-11-27</td>\n",
       "      <td>44.0</td>\n",
       "      <td>Unknown</td>\n",
       "      <td>North Latoyatown</td>\n",
       "      <td>192</td>\n",
       "      <td>73</td>\n",
       "      <td>25</td>\n",
       "      <td>6</td>\n",
       "      <td>1454.87</td>\n",
       "      <td>1.0</td>\n",
       "      <td>560</td>\n",
       "      <td>6</td>\n",
       "      <td>544</td>\n",
       "    </tr>\n",
       "    <tr>\n",
       "      <th>4</th>\n",
       "      <td>2022-01-01</td>\n",
       "      <td>2022-09-01</td>\n",
       "      <td>29.0</td>\n",
       "      <td>Male</td>\n",
       "      <td>Grossstad</td>\n",
       "      <td>110</td>\n",
       "      <td>30</td>\n",
       "      <td>17</td>\n",
       "      <td>20</td>\n",
       "      <td>7874.68</td>\n",
       "      <td>1.0</td>\n",
       "      <td>639</td>\n",
       "      <td>20</td>\n",
       "      <td>243</td>\n",
       "    </tr>\n",
       "    <tr>\n",
       "      <th>5</th>\n",
       "      <td>2022-01-24</td>\n",
       "      <td>2023-06-02</td>\n",
       "      <td>44.0</td>\n",
       "      <td>Male</td>\n",
       "      <td>East Matthewfort</td>\n",
       "      <td>161</td>\n",
       "      <td>2</td>\n",
       "      <td>7</td>\n",
       "      <td>24</td>\n",
       "      <td>15524.55</td>\n",
       "      <td>NaN</td>\n",
       "      <td>365</td>\n",
       "      <td>24</td>\n",
       "      <td>494</td>\n",
       "    </tr>\n",
       "    <tr>\n",
       "      <th>...</th>\n",
       "      <td>...</td>\n",
       "      <td>...</td>\n",
       "      <td>...</td>\n",
       "      <td>...</td>\n",
       "      <td>...</td>\n",
       "      <td>...</td>\n",
       "      <td>...</td>\n",
       "      <td>...</td>\n",
       "      <td>...</td>\n",
       "      <td>...</td>\n",
       "      <td>...</td>\n",
       "      <td>...</td>\n",
       "      <td>...</td>\n",
       "      <td>...</td>\n",
       "    </tr>\n",
       "    <tr>\n",
       "      <th>9996</th>\n",
       "      <td>2022-12-16</td>\n",
       "      <td>2023-08-13</td>\n",
       "      <td>42.0</td>\n",
       "      <td>Female</td>\n",
       "      <td>Johnstonborough</td>\n",
       "      <td>119</td>\n",
       "      <td>47</td>\n",
       "      <td>16</td>\n",
       "      <td>10</td>\n",
       "      <td>5498.20</td>\n",
       "      <td>NaN</td>\n",
       "      <td>355</td>\n",
       "      <td>10</td>\n",
       "      <td>240</td>\n",
       "    </tr>\n",
       "    <tr>\n",
       "      <th>9997</th>\n",
       "      <td>2022-07-09</td>\n",
       "      <td>2023-01-25</td>\n",
       "      <td>26.0</td>\n",
       "      <td>Male</td>\n",
       "      <td>Jessicamouth</td>\n",
       "      <td>3</td>\n",
       "      <td>33</td>\n",
       "      <td>14</td>\n",
       "      <td>12</td>\n",
       "      <td>5848.30</td>\n",
       "      <td>1.0</td>\n",
       "      <td>540</td>\n",
       "      <td>12</td>\n",
       "      <td>200</td>\n",
       "    </tr>\n",
       "    <tr>\n",
       "      <th>9998</th>\n",
       "      <td>2023-09-17</td>\n",
       "      <td>2024-01-30</td>\n",
       "      <td>39.0</td>\n",
       "      <td>Male</td>\n",
       "      <td>New John</td>\n",
       "      <td>53</td>\n",
       "      <td>17</td>\n",
       "      <td>5</td>\n",
       "      <td>3</td>\n",
       "      <td>3503.13</td>\n",
       "      <td>1.0</td>\n",
       "      <td>151</td>\n",
       "      <td>3</td>\n",
       "      <td>135</td>\n",
       "    </tr>\n",
       "    <tr>\n",
       "      <th>9999</th>\n",
       "      <td>2022-05-10</td>\n",
       "      <td>2022-07-15</td>\n",
       "      <td>31.0</td>\n",
       "      <td>Female</td>\n",
       "      <td>Andrewland</td>\n",
       "      <td>23</td>\n",
       "      <td>5</td>\n",
       "      <td>4</td>\n",
       "      <td>12</td>\n",
       "      <td>6721.86</td>\n",
       "      <td>NaN</td>\n",
       "      <td>687</td>\n",
       "      <td>12</td>\n",
       "      <td>66</td>\n",
       "    </tr>\n",
       "    <tr>\n",
       "      <th>10000</th>\n",
       "      <td>2023-05-26</td>\n",
       "      <td>2023-09-01</td>\n",
       "      <td>67.0</td>\n",
       "      <td>Male</td>\n",
       "      <td>Hollytown</td>\n",
       "      <td>12</td>\n",
       "      <td>12</td>\n",
       "      <td>7</td>\n",
       "      <td>10</td>\n",
       "      <td>5775.83</td>\n",
       "      <td>1.0</td>\n",
       "      <td>274</td>\n",
       "      <td>10</td>\n",
       "      <td>98</td>\n",
       "    </tr>\n",
       "  </tbody>\n",
       "</table>\n",
       "<p>10000 rows × 14 columns</p>\n",
       "</div>"
      ],
      "text/plain": [
       "             join_date last_purchase_date   age   gender           location  \\\n",
       "customer_id                                                                   \n",
       "1           2023-11-20         2024-03-17  56.0   Female  North Shannonbury   \n",
       "2           2021-09-08         2023-10-25  44.0     Male          Hillville   \n",
       "3           2021-06-01         2022-11-27  44.0  Unknown   North Latoyatown   \n",
       "4           2022-01-01         2022-09-01  29.0     Male          Grossstad   \n",
       "5           2022-01-24         2023-06-02  44.0     Male   East Matthewfort   \n",
       "...                ...                ...   ...      ...                ...   \n",
       "9996        2022-12-16         2023-08-13  42.0   Female    Johnstonborough   \n",
       "9997        2022-07-09         2023-01-25  26.0     Male       Jessicamouth   \n",
       "9998        2023-09-17         2024-01-30  39.0     Male           New John   \n",
       "9999        2022-05-10         2022-07-15  31.0   Female         Andrewland   \n",
       "10000       2023-05-26         2023-09-01  67.0     Male          Hollytown   \n",
       "\n",
       "             number_of_site_visits  number_of_emails_opened  number_of_clicks  \\\n",
       "customer_id                                                                     \n",
       "1                               10                       15                 1   \n",
       "2                              285                       49                51   \n",
       "3                              192                       73                25   \n",
       "4                              110                       30                17   \n",
       "5                              161                        2                 7   \n",
       "...                            ...                      ...               ...   \n",
       "9996                           119                       47                16   \n",
       "9997                             3                       33                14   \n",
       "9998                            53                       17                 5   \n",
       "9999                            23                        5                 4   \n",
       "10000                           12                       12                 7   \n",
       "\n",
       "             transaction_id  transaction_amount  campaign_id  recency  \\\n",
       "customer_id                                                             \n",
       "1                         6             3509.48          1.0       80   \n",
       "2                         9             6081.32          2.0      460   \n",
       "3                         6             1454.87          1.0      560   \n",
       "4                        20             7874.68          1.0      639   \n",
       "5                        24            15524.55          NaN      365   \n",
       "...                     ...                 ...          ...      ...   \n",
       "9996                     10             5498.20          NaN      355   \n",
       "9997                     12             5848.30          1.0      540   \n",
       "9998                      3             3503.13          1.0      151   \n",
       "9999                     12             6721.86          NaN      687   \n",
       "10000                    10             5775.83          1.0      274   \n",
       "\n",
       "             frequency  tenure  \n",
       "customer_id                     \n",
       "1                    6     118  \n",
       "2                    9     777  \n",
       "3                    6     544  \n",
       "4                   20     243  \n",
       "5                   24     494  \n",
       "...                ...     ...  \n",
       "9996                10     240  \n",
       "9997                12     200  \n",
       "9998                 3     135  \n",
       "9999                12      66  \n",
       "10000               10      98  \n",
       "\n",
       "[10000 rows x 14 columns]"
      ]
     },
     "execution_count": 34,
     "metadata": {},
     "output_type": "execute_result"
    }
   ],
   "source": [
    "df_merged"
   ]
  },
  {
   "cell_type": "code",
   "execution_count": 35,
   "metadata": {},
   "outputs": [
    {
     "data": {
      "text/plain": [
       "<Axes: xlabel='age', ylabel='Count'>"
      ]
     },
     "execution_count": 35,
     "metadata": {},
     "output_type": "execute_result"
    },
    {
     "data": {
      "image/png": "[encoded data removed]",
      "text/plain": [
       "<Figure size 640x480 with 1 Axes>"
      ]
     },
     "metadata": {},
     "output_type": "display_data"
    }
   ],
   "source": [
    "sns.histplot(df_merged['age'])"
   ]
  },
  {
   "cell_type": "code",
   "execution_count": 36,
   "metadata": {},
   "outputs": [],
   "source": [
    "#Creating customer buckets to help indentify the customer value of each bucket\n",
    "def generation(age):\n",
    "    if 12 <= age <= 27:\n",
    "        return 'Gen_Z'\n",
    "    elif 28 <= age <= 43:\n",
    "       return 'Millennials'\n",
    "    elif 44 <= age <= 59:\n",
    "        return 'Gen_X'\n",
    "    elif 60 <= age <= 78:\n",
    "        return 'Baby_Boomers'\n",
    "    elif 79 <= age <= 96:\n",
    "        return 'Silent_Generation'\n",
    "    else:\n",
    "        return 'Unknown'"
   ]
  },
  {
   "cell_type": "code",
   "execution_count": 37,
   "metadata": {},
   "outputs": [],
   "source": [
    "df_merged['generation'] = df_merged['age'].apply(generation)"
   ]
  },
  {
   "cell_type": "code",
   "execution_count": 38,
   "metadata": {},
   "outputs": [
    {
     "data": {
      "text/html": [
       "<div>\n",
       "<style scoped>\n",
       "    .dataframe tbody tr th:only-of-type {\n",
       "        vertical-align: middle;\n",
       "    }\n",
       "\n",
       "    .dataframe tbody tr th {\n",
       "        vertical-align: top;\n",
       "    }\n",
       "\n",
       "    .dataframe thead th {\n",
       "        text-align: right;\n",
       "    }\n",
       "</style>\n",
       "<table border=\"1\" class=\"dataframe\">\n",
       "  <thead>\n",
       "    <tr style=\"text-align: right;\">\n",
       "      <th></th>\n",
       "      <th>join_date</th>\n",
       "      <th>last_purchase_date</th>\n",
       "      <th>age</th>\n",
       "      <th>gender</th>\n",
       "      <th>location</th>\n",
       "      <th>number_of_site_visits</th>\n",
       "      <th>number_of_emails_opened</th>\n",
       "      <th>number_of_clicks</th>\n",
       "      <th>transaction_id</th>\n",
       "      <th>transaction_amount</th>\n",
       "      <th>campaign_id</th>\n",
       "      <th>recency</th>\n",
       "      <th>frequency</th>\n",
       "      <th>tenure</th>\n",
       "      <th>generation</th>\n",
       "    </tr>\n",
       "    <tr>\n",
       "      <th>customer_id</th>\n",
       "      <th></th>\n",
       "      <th></th>\n",
       "      <th></th>\n",
       "      <th></th>\n",
       "      <th></th>\n",
       "      <th></th>\n",
       "      <th></th>\n",
       "      <th></th>\n",
       "      <th></th>\n",
       "      <th></th>\n",
       "      <th></th>\n",
       "      <th></th>\n",
       "      <th></th>\n",
       "      <th></th>\n",
       "      <th></th>\n",
       "    </tr>\n",
       "  </thead>\n",
       "  <tbody>\n",
       "    <tr>\n",
       "      <th>1</th>\n",
       "      <td>2023-11-20</td>\n",
       "      <td>2024-03-17</td>\n",
       "      <td>56.0</td>\n",
       "      <td>Female</td>\n",
       "      <td>North Shannonbury</td>\n",
       "      <td>10</td>\n",
       "      <td>15</td>\n",
       "      <td>1</td>\n",
       "      <td>6</td>\n",
       "      <td>3509.48</td>\n",
       "      <td>1.0</td>\n",
       "      <td>80</td>\n",
       "      <td>6</td>\n",
       "      <td>118</td>\n",
       "      <td>Gen_X</td>\n",
       "    </tr>\n",
       "    <tr>\n",
       "      <th>2</th>\n",
       "      <td>2021-09-08</td>\n",
       "      <td>2023-10-25</td>\n",
       "      <td>44.0</td>\n",
       "      <td>Male</td>\n",
       "      <td>Hillville</td>\n",
       "      <td>285</td>\n",
       "      <td>49</td>\n",
       "      <td>51</td>\n",
       "      <td>9</td>\n",
       "      <td>6081.32</td>\n",
       "      <td>2.0</td>\n",
       "      <td>460</td>\n",
       "      <td>9</td>\n",
       "      <td>777</td>\n",
       "      <td>Gen_X</td>\n",
       "    </tr>\n",
       "    <tr>\n",
       "      <th>3</th>\n",
       "      <td>2021-06-01</td>\n",
       "      <td>2022-11-27</td>\n",
       "      <td>44.0</td>\n",
       "      <td>Unknown</td>\n",
       "      <td>North Latoyatown</td>\n",
       "      <td>192</td>\n",
       "      <td>73</td>\n",
       "      <td>25</td>\n",
       "      <td>6</td>\n",
       "      <td>1454.87</td>\n",
       "      <td>1.0</td>\n",
       "      <td>560</td>\n",
       "      <td>6</td>\n",
       "      <td>544</td>\n",
       "      <td>Gen_X</td>\n",
       "    </tr>\n",
       "    <tr>\n",
       "      <th>4</th>\n",
       "      <td>2022-01-01</td>\n",
       "      <td>2022-09-01</td>\n",
       "      <td>29.0</td>\n",
       "      <td>Male</td>\n",
       "      <td>Grossstad</td>\n",
       "      <td>110</td>\n",
       "      <td>30</td>\n",
       "      <td>17</td>\n",
       "      <td>20</td>\n",
       "      <td>7874.68</td>\n",
       "      <td>1.0</td>\n",
       "      <td>639</td>\n",
       "      <td>20</td>\n",
       "      <td>243</td>\n",
       "      <td>Millennials</td>\n",
       "    </tr>\n",
       "    <tr>\n",
       "      <th>5</th>\n",
       "      <td>2022-01-24</td>\n",
       "      <td>2023-06-02</td>\n",
       "      <td>44.0</td>\n",
       "      <td>Male</td>\n",
       "      <td>East Matthewfort</td>\n",
       "      <td>161</td>\n",
       "      <td>2</td>\n",
       "      <td>7</td>\n",
       "      <td>24</td>\n",
       "      <td>15524.55</td>\n",
       "      <td>NaN</td>\n",
       "      <td>365</td>\n",
       "      <td>24</td>\n",
       "      <td>494</td>\n",
       "      <td>Gen_X</td>\n",
       "    </tr>\n",
       "    <tr>\n",
       "      <th>...</th>\n",
       "      <td>...</td>\n",
       "      <td>...</td>\n",
       "      <td>...</td>\n",
       "      <td>...</td>\n",
       "      <td>...</td>\n",
       "      <td>...</td>\n",
       "      <td>...</td>\n",
       "      <td>...</td>\n",
       "      <td>...</td>\n",
       "      <td>...</td>\n",
       "      <td>...</td>\n",
       "      <td>...</td>\n",
       "      <td>...</td>\n",
       "      <td>...</td>\n",
       "      <td>...</td>\n",
       "    </tr>\n",
       "    <tr>\n",
       "      <th>9996</th>\n",
       "      <td>2022-12-16</td>\n",
       "      <td>2023-08-13</td>\n",
       "      <td>42.0</td>\n",
       "      <td>Female</td>\n",
       "      <td>Johnstonborough</td>\n",
       "      <td>119</td>\n",
       "      <td>47</td>\n",
       "      <td>16</td>\n",
       "      <td>10</td>\n",
       "      <td>5498.20</td>\n",
       "      <td>NaN</td>\n",
       "      <td>355</td>\n",
       "      <td>10</td>\n",
       "      <td>240</td>\n",
       "      <td>Millennials</td>\n",
       "    </tr>\n",
       "    <tr>\n",
       "      <th>9997</th>\n",
       "      <td>2022-07-09</td>\n",
       "      <td>2023-01-25</td>\n",
       "      <td>26.0</td>\n",
       "      <td>Male</td>\n",
       "      <td>Jessicamouth</td>\n",
       "      <td>3</td>\n",
       "      <td>33</td>\n",
       "      <td>14</td>\n",
       "      <td>12</td>\n",
       "      <td>5848.30</td>\n",
       "      <td>1.0</td>\n",
       "      <td>540</td>\n",
       "      <td>12</td>\n",
       "      <td>200</td>\n",
       "      <td>Gen_Z</td>\n",
       "    </tr>\n",
       "    <tr>\n",
       "      <th>9998</th>\n",
       "      <td>2023-09-17</td>\n",
       "      <td>2024-01-30</td>\n",
       "      <td>39.0</td>\n",
       "      <td>Male</td>\n",
       "      <td>New John</td>\n",
       "      <td>53</td>\n",
       "      <td>17</td>\n",
       "      <td>5</td>\n",
       "      <td>3</td>\n",
       "      <td>3503.13</td>\n",
       "      <td>1.0</td>\n",
       "      <td>151</td>\n",
       "      <td>3</td>\n",
       "      <td>135</td>\n",
       "      <td>Millennials</td>\n",
       "    </tr>\n",
       "    <tr>\n",
       "      <th>9999</th>\n",
       "      <td>2022-05-10</td>\n",
       "      <td>2022-07-15</td>\n",
       "      <td>31.0</td>\n",
       "      <td>Female</td>\n",
       "      <td>Andrewland</td>\n",
       "      <td>23</td>\n",
       "      <td>5</td>\n",
       "      <td>4</td>\n",
       "      <td>12</td>\n",
       "      <td>6721.86</td>\n",
       "      <td>NaN</td>\n",
       "      <td>687</td>\n",
       "      <td>12</td>\n",
       "      <td>66</td>\n",
       "      <td>Millennials</td>\n",
       "    </tr>\n",
       "    <tr>\n",
       "      <th>10000</th>\n",
       "      <td>2023-05-26</td>\n",
       "      <td>2023-09-01</td>\n",
       "      <td>67.0</td>\n",
       "      <td>Male</td>\n",
       "      <td>Hollytown</td>\n",
       "      <td>12</td>\n",
       "      <td>12</td>\n",
       "      <td>7</td>\n",
       "      <td>10</td>\n",
       "      <td>5775.83</td>\n",
       "      <td>1.0</td>\n",
       "      <td>274</td>\n",
       "      <td>10</td>\n",
       "      <td>98</td>\n",
       "      <td>Baby_Boomers</td>\n",
       "    </tr>\n",
       "  </tbody>\n",
       "</table>\n",
       "<p>10000 rows × 15 columns</p>\n",
       "</div>"
      ],
      "text/plain": [
       "             join_date last_purchase_date   age   gender           location  \\\n",
       "customer_id                                                                   \n",
       "1           2023-11-20         2024-03-17  56.0   Female  North Shannonbury   \n",
       "2           2021-09-08         2023-10-25  44.0     Male          Hillville   \n",
       "3           2021-06-01         2022-11-27  44.0  Unknown   North Latoyatown   \n",
       "4           2022-01-01         2022-09-01  29.0     Male          Grossstad   \n",
       "5           2022-01-24         2023-06-02  44.0     Male   East Matthewfort   \n",
       "...                ...                ...   ...      ...                ...   \n",
       "9996        2022-12-16         2023-08-13  42.0   Female    Johnstonborough   \n",
       "9997        2022-07-09         2023-01-25  26.0     Male       Jessicamouth   \n",
       "9998        2023-09-17         2024-01-30  39.0     Male           New John   \n",
       "9999        2022-05-10         2022-07-15  31.0   Female         Andrewland   \n",
       "10000       2023-05-26         2023-09-01  67.0     Male          Hollytown   \n",
       "\n",
       "             number_of_site_visits  number_of_emails_opened  number_of_clicks  \\\n",
       "customer_id                                                                     \n",
       "1                               10                       15                 1   \n",
       "2                              285                       49                51   \n",
       "3                              192                       73                25   \n",
       "4                              110                       30                17   \n",
       "5                              161                        2                 7   \n",
       "...                            ...                      ...               ...   \n",
       "9996                           119                       47                16   \n",
       "9997                             3                       33                14   \n",
       "9998                            53                       17                 5   \n",
       "9999                            23                        5                 4   \n",
       "10000                           12                       12                 7   \n",
       "\n",
       "             transaction_id  transaction_amount  campaign_id  recency  \\\n",
       "customer_id                                                             \n",
       "1                         6             3509.48          1.0       80   \n",
       "2                         9             6081.32          2.0      460   \n",
       "3                         6             1454.87          1.0      560   \n",
       "4                        20             7874.68          1.0      639   \n",
       "5                        24            15524.55          NaN      365   \n",
       "...                     ...                 ...          ...      ...   \n",
       "9996                     10             5498.20          NaN      355   \n",
       "9997                     12             5848.30          1.0      540   \n",
       "9998                      3             3503.13          1.0      151   \n",
       "9999                     12             6721.86          NaN      687   \n",
       "10000                    10             5775.83          1.0      274   \n",
       "\n",
       "             frequency  tenure    generation  \n",
       "customer_id                                   \n",
       "1                    6     118         Gen_X  \n",
       "2                    9     777         Gen_X  \n",
       "3                    6     544         Gen_X  \n",
       "4                   20     243   Millennials  \n",
       "5                   24     494         Gen_X  \n",
       "...                ...     ...           ...  \n",
       "9996                10     240   Millennials  \n",
       "9997                12     200         Gen_Z  \n",
       "9998                 3     135   Millennials  \n",
       "9999                12      66   Millennials  \n",
       "10000               10      98  Baby_Boomers  \n",
       "\n",
       "[10000 rows x 15 columns]"
      ]
     },
     "execution_count": 38,
     "metadata": {},
     "output_type": "execute_result"
    }
   ],
   "source": [
    "df_merged"
   ]
  },
  {
   "cell_type": "code",
   "execution_count": 39,
   "metadata": {},
   "outputs": [
    {
     "data": {
      "text/plain": [
       "<Axes: xlabel='generation', ylabel='transaction_amount'>"
      ]
     },
     "execution_count": 39,
     "metadata": {},
     "output_type": "execute_result"
    },
    {
     "data": {
      "image/png": "[encoded data removed]",
      "text/plain": [
       "<Figure size 640x480 with 1 Axes>"
      ]
     },
     "metadata": {},
     "output_type": "display_data"
    }
   ],
   "source": [
    "sns.boxplot(x='generation', y='transaction_amount', data=df_merged)"
   ]
  },
  {
   "cell_type": "code",
   "execution_count": 40,
   "metadata": {},
   "outputs": [
    {
     "data": {
      "text/plain": [
       "<Axes: ylabel='transaction_amount'>"
      ]
     },
     "execution_count": 40,
     "metadata": {},
     "output_type": "execute_result"
    },
    {
     "data": {
      "image/png": "[encoded data removed]",
      "text/plain": [
       "<Figure size 640x480 with 1 Axes>"
      ]
     },
     "metadata": {},
     "output_type": "display_data"
    }
   ],
   "source": [
    "sns.boxplot(y='transaction_amount', data=df_merged)"
   ]
  },
  {
   "cell_type": "code",
   "execution_count": 41,
   "metadata": {},
   "outputs": [
    {
     "data": {
      "text/plain": [
       "<Axes: xlabel='generation', ylabel='frequency'>"
      ]
     },
     "execution_count": 41,
     "metadata": {},
     "output_type": "execute_result"
    },
    {
     "data": {
      "image/png": "[encoded data removed]",
      "text/plain": [
       "<Figure size 640x480 with 1 Axes>"
      ]
     },
     "metadata": {},
     "output_type": "display_data"
    }
   ],
   "source": [
    "sns.boxplot(x='generation', y='frequency', data=df_merged)"
   ]
  },
  {
   "cell_type": "code",
   "execution_count": 42,
   "metadata": {},
   "outputs": [
    {
     "data": {
      "text/plain": [
       "Text(0.5, 1.0, 'Recency by Generation')"
      ]
     },
     "execution_count": 42,
     "metadata": {},
     "output_type": "execute_result"
    },
    {
     "data": {
      "image/png": "[encoded data removed]",
      "text/plain": [
       "<Figure size 640x480 with 1 Axes>"
      ]
     },
     "metadata": {},
     "output_type": "display_data"
    }
   ],
   "source": [
    "sns.boxplot(x='generation', y='recency', data=df_merged)\n",
    "plt.title('Recency by Generation')"
   ]
  },
  {
   "cell_type": "code",
   "execution_count": 43,
   "metadata": {},
   "outputs": [
    {
     "data": {
      "text/plain": [
       "<Axes: xlabel='generation', ylabel='frequency'>"
      ]
     },
     "execution_count": 43,
     "metadata": {},
     "output_type": "execute_result"
    },
    {
     "data": {
      "image/png": "[encoded data removed]",
      "text/plain": [
       "<Figure size 640x480 with 1 Axes>"
      ]
     },
     "metadata": {},
     "output_type": "display_data"
    }
   ],
   "source": [
    "sns.boxplot(x='generation', y='frequency', data=df_merged)"
   ]
  },
  {
   "cell_type": "code",
   "execution_count": 44,
   "metadata": {},
   "outputs": [
    {
     "data": {
      "text/plain": [
       "<Axes: xlabel='generation', ylabel='tenure'>"
      ]
     },
     "execution_count": 44,
     "metadata": {},
     "output_type": "execute_result"
    },
    {
     "data": {
      "image/png": "[encoded data removed]",
      "text/plain": [
       "<Figure size 640x480 with 1 Axes>"
      ]
     },
     "metadata": {},
     "output_type": "display_data"
    }
   ],
   "source": [
    "sns.boxplot(x='generation', y='tenure', data=df_merged)"
   ]
  },
  {
   "cell_type": "code",
   "execution_count": 45,
   "metadata": {},
   "outputs": [],
   "source": [
    "# Calculate RFM Scores\n",
    "df_merged['recency_score'] = pd.qcut(df_merged['recency'], 5, labels=False, duplicates='drop')\n",
    "df_merged['frequency_score'] = pd.qcut(df_merged['frequency'].rank(method='first'), 5, labels=False)\n",
    "df_merged['monetary_score'] = pd.qcut(df_merged['transaction_amount'], 5, labels=False, duplicates='drop')\n",
    "\n",
    "# Combine RFM Scores into a single score\n",
    "df_merged['rfm_score'] = df_merged['recency_score'] + df_merged['frequency_score'] + df_merged['monetary_score']\n"
   ]
  },
  {
   "cell_type": "code",
   "execution_count": 46,
   "metadata": {},
   "outputs": [
    {
     "data": {
      "text/html": [
       "<div>\n",
       "<style scoped>\n",
       "    .dataframe tbody tr th:only-of-type {\n",
       "        vertical-align: middle;\n",
       "    }\n",
       "\n",
       "    .dataframe tbody tr th {\n",
       "        vertical-align: top;\n",
       "    }\n",
       "\n",
       "    .dataframe thead th {\n",
       "        text-align: right;\n",
       "    }\n",
       "</style>\n",
       "<table border=\"1\" class=\"dataframe\">\n",
       "  <thead>\n",
       "    <tr style=\"text-align: right;\">\n",
       "      <th></th>\n",
       "      <th>join_date</th>\n",
       "      <th>last_purchase_date</th>\n",
       "      <th>age</th>\n",
       "      <th>gender</th>\n",
       "      <th>location</th>\n",
       "      <th>number_of_site_visits</th>\n",
       "      <th>number_of_emails_opened</th>\n",
       "      <th>number_of_clicks</th>\n",
       "      <th>transaction_id</th>\n",
       "      <th>transaction_amount</th>\n",
       "      <th>campaign_id</th>\n",
       "      <th>recency</th>\n",
       "      <th>frequency</th>\n",
       "      <th>tenure</th>\n",
       "      <th>generation</th>\n",
       "      <th>recency_score</th>\n",
       "      <th>frequency_score</th>\n",
       "      <th>monetary_score</th>\n",
       "      <th>rfm_score</th>\n",
       "    </tr>\n",
       "    <tr>\n",
       "      <th>customer_id</th>\n",
       "      <th></th>\n",
       "      <th></th>\n",
       "      <th></th>\n",
       "      <th></th>\n",
       "      <th></th>\n",
       "      <th></th>\n",
       "      <th></th>\n",
       "      <th></th>\n",
       "      <th></th>\n",
       "      <th></th>\n",
       "      <th></th>\n",
       "      <th></th>\n",
       "      <th></th>\n",
       "      <th></th>\n",
       "      <th></th>\n",
       "      <th></th>\n",
       "      <th></th>\n",
       "      <th></th>\n",
       "      <th></th>\n",
       "    </tr>\n",
       "  </thead>\n",
       "  <tbody>\n",
       "    <tr>\n",
       "      <th>1</th>\n",
       "      <td>2023-11-20</td>\n",
       "      <td>2024-03-17</td>\n",
       "      <td>56.0</td>\n",
       "      <td>Female</td>\n",
       "      <td>North Shannonbury</td>\n",
       "      <td>10</td>\n",
       "      <td>15</td>\n",
       "      <td>1</td>\n",
       "      <td>6</td>\n",
       "      <td>3509.48</td>\n",
       "      <td>1.0</td>\n",
       "      <td>80</td>\n",
       "      <td>6</td>\n",
       "      <td>118</td>\n",
       "      <td>Gen_X</td>\n",
       "      <td>0</td>\n",
       "      <td>0</td>\n",
       "      <td>1</td>\n",
       "      <td>1</td>\n",
       "    </tr>\n",
       "    <tr>\n",
       "      <th>2</th>\n",
       "      <td>2021-09-08</td>\n",
       "      <td>2023-10-25</td>\n",
       "      <td>44.0</td>\n",
       "      <td>Male</td>\n",
       "      <td>Hillville</td>\n",
       "      <td>285</td>\n",
       "      <td>49</td>\n",
       "      <td>51</td>\n",
       "      <td>9</td>\n",
       "      <td>6081.32</td>\n",
       "      <td>2.0</td>\n",
       "      <td>460</td>\n",
       "      <td>9</td>\n",
       "      <td>777</td>\n",
       "      <td>Gen_X</td>\n",
       "      <td>2</td>\n",
       "      <td>1</td>\n",
       "      <td>2</td>\n",
       "      <td>5</td>\n",
       "    </tr>\n",
       "    <tr>\n",
       "      <th>3</th>\n",
       "      <td>2021-06-01</td>\n",
       "      <td>2022-11-27</td>\n",
       "      <td>44.0</td>\n",
       "      <td>Unknown</td>\n",
       "      <td>North Latoyatown</td>\n",
       "      <td>192</td>\n",
       "      <td>73</td>\n",
       "      <td>25</td>\n",
       "      <td>6</td>\n",
       "      <td>1454.87</td>\n",
       "      <td>1.0</td>\n",
       "      <td>560</td>\n",
       "      <td>6</td>\n",
       "      <td>544</td>\n",
       "      <td>Gen_X</td>\n",
       "      <td>3</td>\n",
       "      <td>0</td>\n",
       "      <td>0</td>\n",
       "      <td>3</td>\n",
       "    </tr>\n",
       "    <tr>\n",
       "      <th>4</th>\n",
       "      <td>2022-01-01</td>\n",
       "      <td>2022-09-01</td>\n",
       "      <td>29.0</td>\n",
       "      <td>Male</td>\n",
       "      <td>Grossstad</td>\n",
       "      <td>110</td>\n",
       "      <td>30</td>\n",
       "      <td>17</td>\n",
       "      <td>20</td>\n",
       "      <td>7874.68</td>\n",
       "      <td>1.0</td>\n",
       "      <td>639</td>\n",
       "      <td>20</td>\n",
       "      <td>243</td>\n",
       "      <td>Millennials</td>\n",
       "      <td>3</td>\n",
       "      <td>3</td>\n",
       "      <td>2</td>\n",
       "      <td>8</td>\n",
       "    </tr>\n",
       "    <tr>\n",
       "      <th>5</th>\n",
       "      <td>2022-01-24</td>\n",
       "      <td>2023-06-02</td>\n",
       "      <td>44.0</td>\n",
       "      <td>Male</td>\n",
       "      <td>East Matthewfort</td>\n",
       "      <td>161</td>\n",
       "      <td>2</td>\n",
       "      <td>7</td>\n",
       "      <td>24</td>\n",
       "      <td>15524.55</td>\n",
       "      <td>NaN</td>\n",
       "      <td>365</td>\n",
       "      <td>24</td>\n",
       "      <td>494</td>\n",
       "      <td>Gen_X</td>\n",
       "      <td>2</td>\n",
       "      <td>4</td>\n",
       "      <td>4</td>\n",
       "      <td>10</td>\n",
       "    </tr>\n",
       "    <tr>\n",
       "      <th>...</th>\n",
       "      <td>...</td>\n",
       "      <td>...</td>\n",
       "      <td>...</td>\n",
       "      <td>...</td>\n",
       "      <td>...</td>\n",
       "      <td>...</td>\n",
       "      <td>...</td>\n",
       "      <td>...</td>\n",
       "      <td>...</td>\n",
       "      <td>...</td>\n",
       "      <td>...</td>\n",
       "      <td>...</td>\n",
       "      <td>...</td>\n",
       "      <td>...</td>\n",
       "      <td>...</td>\n",
       "      <td>...</td>\n",
       "      <td>...</td>\n",
       "      <td>...</td>\n",
       "      <td>...</td>\n",
       "    </tr>\n",
       "    <tr>\n",
       "      <th>9996</th>\n",
       "      <td>2022-12-16</td>\n",
       "      <td>2023-08-13</td>\n",
       "      <td>42.0</td>\n",
       "      <td>Female</td>\n",
       "      <td>Johnstonborough</td>\n",
       "      <td>119</td>\n",
       "      <td>47</td>\n",
       "      <td>16</td>\n",
       "      <td>10</td>\n",
       "      <td>5498.20</td>\n",
       "      <td>NaN</td>\n",
       "      <td>355</td>\n",
       "      <td>10</td>\n",
       "      <td>240</td>\n",
       "      <td>Millennials</td>\n",
       "      <td>2</td>\n",
       "      <td>2</td>\n",
       "      <td>1</td>\n",
       "      <td>5</td>\n",
       "    </tr>\n",
       "    <tr>\n",
       "      <th>9997</th>\n",
       "      <td>2022-07-09</td>\n",
       "      <td>2023-01-25</td>\n",
       "      <td>26.0</td>\n",
       "      <td>Male</td>\n",
       "      <td>Jessicamouth</td>\n",
       "      <td>3</td>\n",
       "      <td>33</td>\n",
       "      <td>14</td>\n",
       "      <td>12</td>\n",
       "      <td>5848.30</td>\n",
       "      <td>1.0</td>\n",
       "      <td>540</td>\n",
       "      <td>12</td>\n",
       "      <td>200</td>\n",
       "      <td>Gen_Z</td>\n",
       "      <td>3</td>\n",
       "      <td>2</td>\n",
       "      <td>1</td>\n",
       "      <td>6</td>\n",
       "    </tr>\n",
       "    <tr>\n",
       "      <th>9998</th>\n",
       "      <td>2023-09-17</td>\n",
       "      <td>2024-01-30</td>\n",
       "      <td>39.0</td>\n",
       "      <td>Male</td>\n",
       "      <td>New John</td>\n",
       "      <td>53</td>\n",
       "      <td>17</td>\n",
       "      <td>5</td>\n",
       "      <td>3</td>\n",
       "      <td>3503.13</td>\n",
       "      <td>1.0</td>\n",
       "      <td>151</td>\n",
       "      <td>3</td>\n",
       "      <td>135</td>\n",
       "      <td>Millennials</td>\n",
       "      <td>1</td>\n",
       "      <td>0</td>\n",
       "      <td>1</td>\n",
       "      <td>2</td>\n",
       "    </tr>\n",
       "    <tr>\n",
       "      <th>9999</th>\n",
       "      <td>2022-05-10</td>\n",
       "      <td>2022-07-15</td>\n",
       "      <td>31.0</td>\n",
       "      <td>Female</td>\n",
       "      <td>Andrewland</td>\n",
       "      <td>23</td>\n",
       "      <td>5</td>\n",
       "      <td>4</td>\n",
       "      <td>12</td>\n",
       "      <td>6721.86</td>\n",
       "      <td>NaN</td>\n",
       "      <td>687</td>\n",
       "      <td>12</td>\n",
       "      <td>66</td>\n",
       "      <td>Millennials</td>\n",
       "      <td>3</td>\n",
       "      <td>2</td>\n",
       "      <td>2</td>\n",
       "      <td>7</td>\n",
       "    </tr>\n",
       "    <tr>\n",
       "      <th>10000</th>\n",
       "      <td>2023-05-26</td>\n",
       "      <td>2023-09-01</td>\n",
       "      <td>67.0</td>\n",
       "      <td>Male</td>\n",
       "      <td>Hollytown</td>\n",
       "      <td>12</td>\n",
       "      <td>12</td>\n",
       "      <td>7</td>\n",
       "      <td>10</td>\n",
       "      <td>5775.83</td>\n",
       "      <td>1.0</td>\n",
       "      <td>274</td>\n",
       "      <td>10</td>\n",
       "      <td>98</td>\n",
       "      <td>Baby_Boomers</td>\n",
       "      <td>2</td>\n",
       "      <td>2</td>\n",
       "      <td>1</td>\n",
       "      <td>5</td>\n",
       "    </tr>\n",
       "  </tbody>\n",
       "</table>\n",
       "<p>10000 rows × 19 columns</p>\n",
       "</div>"
      ],
      "text/plain": [
       "             join_date last_purchase_date   age   gender           location  \\\n",
       "customer_id                                                                   \n",
       "1           2023-11-20         2024-03-17  56.0   Female  North Shannonbury   \n",
       "2           2021-09-08         2023-10-25  44.0     Male          Hillville   \n",
       "3           2021-06-01         2022-11-27  44.0  Unknown   North Latoyatown   \n",
       "4           2022-01-01         2022-09-01  29.0     Male          Grossstad   \n",
       "5           2022-01-24         2023-06-02  44.0     Male   East Matthewfort   \n",
       "...                ...                ...   ...      ...                ...   \n",
       "9996        2022-12-16         2023-08-13  42.0   Female    Johnstonborough   \n",
       "9997        2022-07-09         2023-01-25  26.0     Male       Jessicamouth   \n",
       "9998        2023-09-17         2024-01-30  39.0     Male           New John   \n",
       "9999        2022-05-10         2022-07-15  31.0   Female         Andrewland   \n",
       "10000       2023-05-26         2023-09-01  67.0     Male          Hollytown   \n",
       "\n",
       "             number_of_site_visits  number_of_emails_opened  number_of_clicks  \\\n",
       "customer_id                                                                     \n",
       "1                               10                       15                 1   \n",
       "2                              285                       49                51   \n",
       "3                              192                       73                25   \n",
       "4                              110                       30                17   \n",
       "5                              161                        2                 7   \n",
       "...                            ...                      ...               ...   \n",
       "9996                           119                       47                16   \n",
       "9997                             3                       33                14   \n",
       "9998                            53                       17                 5   \n",
       "9999                            23                        5                 4   \n",
       "10000                           12                       12                 7   \n",
       "\n",
       "             transaction_id  transaction_amount  campaign_id  recency  \\\n",
       "customer_id                                                             \n",
       "1                         6             3509.48          1.0       80   \n",
       "2                         9             6081.32          2.0      460   \n",
       "3                         6             1454.87          1.0      560   \n",
       "4                        20             7874.68          1.0      639   \n",
       "5                        24            15524.55          NaN      365   \n",
       "...                     ...                 ...          ...      ...   \n",
       "9996                     10             5498.20          NaN      355   \n",
       "9997                     12             5848.30          1.0      540   \n",
       "9998                      3             3503.13          1.0      151   \n",
       "9999                     12             6721.86          NaN      687   \n",
       "10000                    10             5775.83          1.0      274   \n",
       "\n",
       "             frequency  tenure    generation  recency_score  frequency_score  \\\n",
       "customer_id                                                                    \n",
       "1                    6     118         Gen_X              0                0   \n",
       "2                    9     777         Gen_X              2                1   \n",
       "3                    6     544         Gen_X              3                0   \n",
       "4                   20     243   Millennials              3                3   \n",
       "5                   24     494         Gen_X              2                4   \n",
       "...                ...     ...           ...            ...              ...   \n",
       "9996                10     240   Millennials              2                2   \n",
       "9997                12     200         Gen_Z              3                2   \n",
       "9998                 3     135   Millennials              1                0   \n",
       "9999                12      66   Millennials              3                2   \n",
       "10000               10      98  Baby_Boomers              2                2   \n",
       "\n",
       "             monetary_score  rfm_score  \n",
       "customer_id                             \n",
       "1                         1          1  \n",
       "2                         2          5  \n",
       "3                         0          3  \n",
       "4                         2          8  \n",
       "5                         4         10  \n",
       "...                     ...        ...  \n",
       "9996                      1          5  \n",
       "9997                      1          6  \n",
       "9998                      1          2  \n",
       "9999                      2          7  \n",
       "10000                     1          5  \n",
       "\n",
       "[10000 rows x 19 columns]"
      ]
     },
     "execution_count": 46,
     "metadata": {},
     "output_type": "execute_result"
    }
   ],
   "source": [
    "df_merged"
   ]
  },
  {
   "cell_type": "code",
   "execution_count": 59,
   "metadata": {},
   "outputs": [
    {
     "ename": "ValueError",
     "evalue": "Pandas data cast to numpy dtype of object. Check input data with np.asarray(data).",
     "output_type": "error",
     "traceback": [
      "\u001b[0;31m---------------------------------------------------------------------------\u001b[0m",
      "\u001b[0;31mValueError\u001b[0m                                Traceback (most recent call last)",
      "Cell \u001b[0;32mIn[59], line 15\u001b[0m\n\u001b[1;32m     12\u001b[0m X \u001b[38;5;241m=\u001b[39m sm\u001b[38;5;241m.\u001b[39madd_constant(X)\n\u001b[1;32m     14\u001b[0m \u001b[38;5;66;03m# Fit the OLS model\u001b[39;00m\n\u001b[0;32m---> 15\u001b[0m ols_model \u001b[38;5;241m=\u001b[39m \u001b[43msm\u001b[49m\u001b[38;5;241;43m.\u001b[39;49m\u001b[43mOLS\u001b[49m\u001b[43m(\u001b[49m\u001b[43my\u001b[49m\u001b[43m,\u001b[49m\u001b[43m \u001b[49m\u001b[43mX\u001b[49m\u001b[43m)\u001b[49m\u001b[38;5;241m.\u001b[39mfit()\n\u001b[1;32m     17\u001b[0m \u001b[38;5;66;03m# Summary of the OLS regression\u001b[39;00m\n\u001b[1;32m     18\u001b[0m ols_summary \u001b[38;5;241m=\u001b[39m ols_model\u001b[38;5;241m.\u001b[39msummary()\n",
      "File \u001b[0;32m~/Library/Python/3.9/lib/python/site-packages/statsmodels/regression/linear_model.py:924\u001b[0m, in \u001b[0;36mOLS.__init__\u001b[0;34m(self, endog, exog, missing, hasconst, **kwargs)\u001b[0m\n\u001b[1;32m    921\u001b[0m     msg \u001b[38;5;241m=\u001b[39m (\u001b[38;5;124m\"\u001b[39m\u001b[38;5;124mWeights are not supported in OLS and will be ignored\u001b[39m\u001b[38;5;124m\"\u001b[39m\n\u001b[1;32m    922\u001b[0m            \u001b[38;5;124m\"\u001b[39m\u001b[38;5;124mAn exception will be raised in the next version.\u001b[39m\u001b[38;5;124m\"\u001b[39m)\n\u001b[1;32m    923\u001b[0m     warnings\u001b[38;5;241m.\u001b[39mwarn(msg, ValueWarning)\n\u001b[0;32m--> 924\u001b[0m \u001b[38;5;28;43msuper\u001b[39;49m\u001b[43m(\u001b[49m\u001b[43m)\u001b[49m\u001b[38;5;241;43m.\u001b[39;49m\u001b[38;5;21;43m__init__\u001b[39;49m\u001b[43m(\u001b[49m\u001b[43mendog\u001b[49m\u001b[43m,\u001b[49m\u001b[43m \u001b[49m\u001b[43mexog\u001b[49m\u001b[43m,\u001b[49m\u001b[43m \u001b[49m\u001b[43mmissing\u001b[49m\u001b[38;5;241;43m=\u001b[39;49m\u001b[43mmissing\u001b[49m\u001b[43m,\u001b[49m\n\u001b[1;32m    925\u001b[0m \u001b[43m                          \u001b[49m\u001b[43mhasconst\u001b[49m\u001b[38;5;241;43m=\u001b[39;49m\u001b[43mhasconst\u001b[49m\u001b[43m,\u001b[49m\u001b[43m \u001b[49m\u001b[38;5;241;43m*\u001b[39;49m\u001b[38;5;241;43m*\u001b[39;49m\u001b[43mkwargs\u001b[49m\u001b[43m)\u001b[49m\n\u001b[1;32m    926\u001b[0m \u001b[38;5;28;01mif\u001b[39;00m \u001b[38;5;124m\"\u001b[39m\u001b[38;5;124mweights\u001b[39m\u001b[38;5;124m\"\u001b[39m \u001b[38;5;129;01min\u001b[39;00m \u001b[38;5;28mself\u001b[39m\u001b[38;5;241m.\u001b[39m_init_keys:\n\u001b[1;32m    927\u001b[0m     \u001b[38;5;28mself\u001b[39m\u001b[38;5;241m.\u001b[39m_init_keys\u001b[38;5;241m.\u001b[39mremove(\u001b[38;5;124m\"\u001b[39m\u001b[38;5;124mweights\u001b[39m\u001b[38;5;124m\"\u001b[39m)\n",
      "File \u001b[0;32m~/Library/Python/3.9/lib/python/site-packages/statsmodels/regression/linear_model.py:749\u001b[0m, in \u001b[0;36mWLS.__init__\u001b[0;34m(self, endog, exog, weights, missing, hasconst, **kwargs)\u001b[0m\n\u001b[1;32m    747\u001b[0m \u001b[38;5;28;01melse\u001b[39;00m:\n\u001b[1;32m    748\u001b[0m     weights \u001b[38;5;241m=\u001b[39m weights\u001b[38;5;241m.\u001b[39msqueeze()\n\u001b[0;32m--> 749\u001b[0m \u001b[38;5;28;43msuper\u001b[39;49m\u001b[43m(\u001b[49m\u001b[43m)\u001b[49m\u001b[38;5;241;43m.\u001b[39;49m\u001b[38;5;21;43m__init__\u001b[39;49m\u001b[43m(\u001b[49m\u001b[43mendog\u001b[49m\u001b[43m,\u001b[49m\u001b[43m \u001b[49m\u001b[43mexog\u001b[49m\u001b[43m,\u001b[49m\u001b[43m \u001b[49m\u001b[43mmissing\u001b[49m\u001b[38;5;241;43m=\u001b[39;49m\u001b[43mmissing\u001b[49m\u001b[43m,\u001b[49m\n\u001b[1;32m    750\u001b[0m \u001b[43m                          \u001b[49m\u001b[43mweights\u001b[49m\u001b[38;5;241;43m=\u001b[39;49m\u001b[43mweights\u001b[49m\u001b[43m,\u001b[49m\u001b[43m \u001b[49m\u001b[43mhasconst\u001b[49m\u001b[38;5;241;43m=\u001b[39;49m\u001b[43mhasconst\u001b[49m\u001b[43m,\u001b[49m\u001b[43m \u001b[49m\u001b[38;5;241;43m*\u001b[39;49m\u001b[38;5;241;43m*\u001b[39;49m\u001b[43mkwargs\u001b[49m\u001b[43m)\u001b[49m\n\u001b[1;32m    751\u001b[0m nobs \u001b[38;5;241m=\u001b[39m \u001b[38;5;28mself\u001b[39m\u001b[38;5;241m.\u001b[39mexog\u001b[38;5;241m.\u001b[39mshape[\u001b[38;5;241m0\u001b[39m]\n\u001b[1;32m    752\u001b[0m weights \u001b[38;5;241m=\u001b[39m \u001b[38;5;28mself\u001b[39m\u001b[38;5;241m.\u001b[39mweights\n",
      "File \u001b[0;32m~/Library/Python/3.9/lib/python/site-packages/statsmodels/regression/linear_model.py:203\u001b[0m, in \u001b[0;36mRegressionModel.__init__\u001b[0;34m(self, endog, exog, **kwargs)\u001b[0m\n\u001b[1;32m    202\u001b[0m \u001b[38;5;28;01mdef\u001b[39;00m \u001b[38;5;21m__init__\u001b[39m(\u001b[38;5;28mself\u001b[39m, endog, exog, \u001b[38;5;241m*\u001b[39m\u001b[38;5;241m*\u001b[39mkwargs):\n\u001b[0;32m--> 203\u001b[0m     \u001b[38;5;28;43msuper\u001b[39;49m\u001b[43m(\u001b[49m\u001b[43m)\u001b[49m\u001b[38;5;241;43m.\u001b[39;49m\u001b[38;5;21;43m__init__\u001b[39;49m\u001b[43m(\u001b[49m\u001b[43mendog\u001b[49m\u001b[43m,\u001b[49m\u001b[43m \u001b[49m\u001b[43mexog\u001b[49m\u001b[43m,\u001b[49m\u001b[43m \u001b[49m\u001b[38;5;241;43m*\u001b[39;49m\u001b[38;5;241;43m*\u001b[39;49m\u001b[43mkwargs\u001b[49m\u001b[43m)\u001b[49m\n\u001b[1;32m    204\u001b[0m     \u001b[38;5;28mself\u001b[39m\u001b[38;5;241m.\u001b[39mpinv_wexog: Float64Array \u001b[38;5;241m|\u001b[39m \u001b[38;5;28;01mNone\u001b[39;00m \u001b[38;5;241m=\u001b[39m \u001b[38;5;28;01mNone\u001b[39;00m\n\u001b[1;32m    205\u001b[0m     \u001b[38;5;28mself\u001b[39m\u001b[38;5;241m.\u001b[39m_data_attr\u001b[38;5;241m.\u001b[39mextend([\u001b[38;5;124m'\u001b[39m\u001b[38;5;124mpinv_wexog\u001b[39m\u001b[38;5;124m'\u001b[39m, \u001b[38;5;124m'\u001b[39m\u001b[38;5;124mwendog\u001b[39m\u001b[38;5;124m'\u001b[39m, \u001b[38;5;124m'\u001b[39m\u001b[38;5;124mwexog\u001b[39m\u001b[38;5;124m'\u001b[39m, \u001b[38;5;124m'\u001b[39m\u001b[38;5;124mweights\u001b[39m\u001b[38;5;124m'\u001b[39m])\n",
      "File \u001b[0;32m~/Library/Python/3.9/lib/python/site-packages/statsmodels/base/model.py:270\u001b[0m, in \u001b[0;36mLikelihoodModel.__init__\u001b[0;34m(self, endog, exog, **kwargs)\u001b[0m\n\u001b[1;32m    269\u001b[0m \u001b[38;5;28;01mdef\u001b[39;00m \u001b[38;5;21m__init__\u001b[39m(\u001b[38;5;28mself\u001b[39m, endog, exog\u001b[38;5;241m=\u001b[39m\u001b[38;5;28;01mNone\u001b[39;00m, \u001b[38;5;241m*\u001b[39m\u001b[38;5;241m*\u001b[39mkwargs):\n\u001b[0;32m--> 270\u001b[0m     \u001b[38;5;28;43msuper\u001b[39;49m\u001b[43m(\u001b[49m\u001b[43m)\u001b[49m\u001b[38;5;241;43m.\u001b[39;49m\u001b[38;5;21;43m__init__\u001b[39;49m\u001b[43m(\u001b[49m\u001b[43mendog\u001b[49m\u001b[43m,\u001b[49m\u001b[43m \u001b[49m\u001b[43mexog\u001b[49m\u001b[43m,\u001b[49m\u001b[43m \u001b[49m\u001b[38;5;241;43m*\u001b[39;49m\u001b[38;5;241;43m*\u001b[39;49m\u001b[43mkwargs\u001b[49m\u001b[43m)\u001b[49m\n\u001b[1;32m    271\u001b[0m     \u001b[38;5;28mself\u001b[39m\u001b[38;5;241m.\u001b[39minitialize()\n",
      "File \u001b[0;32m~/Library/Python/3.9/lib/python/site-packages/statsmodels/base/model.py:95\u001b[0m, in \u001b[0;36mModel.__init__\u001b[0;34m(self, endog, exog, **kwargs)\u001b[0m\n\u001b[1;32m     93\u001b[0m missing \u001b[38;5;241m=\u001b[39m kwargs\u001b[38;5;241m.\u001b[39mpop(\u001b[38;5;124m'\u001b[39m\u001b[38;5;124mmissing\u001b[39m\u001b[38;5;124m'\u001b[39m, \u001b[38;5;124m'\u001b[39m\u001b[38;5;124mnone\u001b[39m\u001b[38;5;124m'\u001b[39m)\n\u001b[1;32m     94\u001b[0m hasconst \u001b[38;5;241m=\u001b[39m kwargs\u001b[38;5;241m.\u001b[39mpop(\u001b[38;5;124m'\u001b[39m\u001b[38;5;124mhasconst\u001b[39m\u001b[38;5;124m'\u001b[39m, \u001b[38;5;28;01mNone\u001b[39;00m)\n\u001b[0;32m---> 95\u001b[0m \u001b[38;5;28mself\u001b[39m\u001b[38;5;241m.\u001b[39mdata \u001b[38;5;241m=\u001b[39m \u001b[38;5;28;43mself\u001b[39;49m\u001b[38;5;241;43m.\u001b[39;49m\u001b[43m_handle_data\u001b[49m\u001b[43m(\u001b[49m\u001b[43mendog\u001b[49m\u001b[43m,\u001b[49m\u001b[43m \u001b[49m\u001b[43mexog\u001b[49m\u001b[43m,\u001b[49m\u001b[43m \u001b[49m\u001b[43mmissing\u001b[49m\u001b[43m,\u001b[49m\u001b[43m \u001b[49m\u001b[43mhasconst\u001b[49m\u001b[43m,\u001b[49m\n\u001b[1;32m     96\u001b[0m \u001b[43m                              \u001b[49m\u001b[38;5;241;43m*\u001b[39;49m\u001b[38;5;241;43m*\u001b[39;49m\u001b[43mkwargs\u001b[49m\u001b[43m)\u001b[49m\n\u001b[1;32m     97\u001b[0m \u001b[38;5;28mself\u001b[39m\u001b[38;5;241m.\u001b[39mk_constant \u001b[38;5;241m=\u001b[39m \u001b[38;5;28mself\u001b[39m\u001b[38;5;241m.\u001b[39mdata\u001b[38;5;241m.\u001b[39mk_constant\n\u001b[1;32m     98\u001b[0m \u001b[38;5;28mself\u001b[39m\u001b[38;5;241m.\u001b[39mexog \u001b[38;5;241m=\u001b[39m \u001b[38;5;28mself\u001b[39m\u001b[38;5;241m.\u001b[39mdata\u001b[38;5;241m.\u001b[39mexog\n",
      "File \u001b[0;32m~/Library/Python/3.9/lib/python/site-packages/statsmodels/base/model.py:135\u001b[0m, in \u001b[0;36mModel._handle_data\u001b[0;34m(self, endog, exog, missing, hasconst, **kwargs)\u001b[0m\n\u001b[1;32m    134\u001b[0m \u001b[38;5;28;01mdef\u001b[39;00m \u001b[38;5;21m_handle_data\u001b[39m(\u001b[38;5;28mself\u001b[39m, endog, exog, missing, hasconst, \u001b[38;5;241m*\u001b[39m\u001b[38;5;241m*\u001b[39mkwargs):\n\u001b[0;32m--> 135\u001b[0m     data \u001b[38;5;241m=\u001b[39m \u001b[43mhandle_data\u001b[49m\u001b[43m(\u001b[49m\u001b[43mendog\u001b[49m\u001b[43m,\u001b[49m\u001b[43m \u001b[49m\u001b[43mexog\u001b[49m\u001b[43m,\u001b[49m\u001b[43m \u001b[49m\u001b[43mmissing\u001b[49m\u001b[43m,\u001b[49m\u001b[43m \u001b[49m\u001b[43mhasconst\u001b[49m\u001b[43m,\u001b[49m\u001b[43m \u001b[49m\u001b[38;5;241;43m*\u001b[39;49m\u001b[38;5;241;43m*\u001b[39;49m\u001b[43mkwargs\u001b[49m\u001b[43m)\u001b[49m\n\u001b[1;32m    136\u001b[0m     \u001b[38;5;66;03m# kwargs arrays could have changed, easier to just attach here\u001b[39;00m\n\u001b[1;32m    137\u001b[0m     \u001b[38;5;28;01mfor\u001b[39;00m key \u001b[38;5;129;01min\u001b[39;00m kwargs:\n",
      "File \u001b[0;32m~/Library/Python/3.9/lib/python/site-packages/statsmodels/base/data.py:675\u001b[0m, in \u001b[0;36mhandle_data\u001b[0;34m(endog, exog, missing, hasconst, **kwargs)\u001b[0m\n\u001b[1;32m    672\u001b[0m     exog \u001b[38;5;241m=\u001b[39m np\u001b[38;5;241m.\u001b[39masarray(exog)\n\u001b[1;32m    674\u001b[0m klass \u001b[38;5;241m=\u001b[39m handle_data_class_factory(endog, exog)\n\u001b[0;32m--> 675\u001b[0m \u001b[38;5;28;01mreturn\u001b[39;00m \u001b[43mklass\u001b[49m\u001b[43m(\u001b[49m\u001b[43mendog\u001b[49m\u001b[43m,\u001b[49m\u001b[43m \u001b[49m\u001b[43mexog\u001b[49m\u001b[38;5;241;43m=\u001b[39;49m\u001b[43mexog\u001b[49m\u001b[43m,\u001b[49m\u001b[43m \u001b[49m\u001b[43mmissing\u001b[49m\u001b[38;5;241;43m=\u001b[39;49m\u001b[43mmissing\u001b[49m\u001b[43m,\u001b[49m\u001b[43m \u001b[49m\u001b[43mhasconst\u001b[49m\u001b[38;5;241;43m=\u001b[39;49m\u001b[43mhasconst\u001b[49m\u001b[43m,\u001b[49m\n\u001b[1;32m    676\u001b[0m \u001b[43m             \u001b[49m\u001b[38;5;241;43m*\u001b[39;49m\u001b[38;5;241;43m*\u001b[39;49m\u001b[43mkwargs\u001b[49m\u001b[43m)\u001b[49m\n",
      "File \u001b[0;32m~/Library/Python/3.9/lib/python/site-packages/statsmodels/base/data.py:84\u001b[0m, in \u001b[0;36mModelData.__init__\u001b[0;34m(self, endog, exog, missing, hasconst, **kwargs)\u001b[0m\n\u001b[1;32m     82\u001b[0m     \u001b[38;5;28mself\u001b[39m\u001b[38;5;241m.\u001b[39morig_endog \u001b[38;5;241m=\u001b[39m endog\n\u001b[1;32m     83\u001b[0m     \u001b[38;5;28mself\u001b[39m\u001b[38;5;241m.\u001b[39morig_exog \u001b[38;5;241m=\u001b[39m exog\n\u001b[0;32m---> 84\u001b[0m     \u001b[38;5;28mself\u001b[39m\u001b[38;5;241m.\u001b[39mendog, \u001b[38;5;28mself\u001b[39m\u001b[38;5;241m.\u001b[39mexog \u001b[38;5;241m=\u001b[39m \u001b[38;5;28;43mself\u001b[39;49m\u001b[38;5;241;43m.\u001b[39;49m\u001b[43m_convert_endog_exog\u001b[49m\u001b[43m(\u001b[49m\u001b[43mendog\u001b[49m\u001b[43m,\u001b[49m\u001b[43m \u001b[49m\u001b[43mexog\u001b[49m\u001b[43m)\u001b[49m\n\u001b[1;32m     86\u001b[0m \u001b[38;5;28mself\u001b[39m\u001b[38;5;241m.\u001b[39mconst_idx \u001b[38;5;241m=\u001b[39m \u001b[38;5;28;01mNone\u001b[39;00m\n\u001b[1;32m     87\u001b[0m \u001b[38;5;28mself\u001b[39m\u001b[38;5;241m.\u001b[39mk_constant \u001b[38;5;241m=\u001b[39m \u001b[38;5;241m0\u001b[39m\n",
      "File \u001b[0;32m~/Library/Python/3.9/lib/python/site-packages/statsmodels/base/data.py:509\u001b[0m, in \u001b[0;36mPandasData._convert_endog_exog\u001b[0;34m(self, endog, exog)\u001b[0m\n\u001b[1;32m    507\u001b[0m exog \u001b[38;5;241m=\u001b[39m exog \u001b[38;5;28;01mif\u001b[39;00m exog \u001b[38;5;129;01mis\u001b[39;00m \u001b[38;5;28;01mNone\u001b[39;00m \u001b[38;5;28;01melse\u001b[39;00m np\u001b[38;5;241m.\u001b[39masarray(exog)\n\u001b[1;32m    508\u001b[0m \u001b[38;5;28;01mif\u001b[39;00m endog\u001b[38;5;241m.\u001b[39mdtype \u001b[38;5;241m==\u001b[39m \u001b[38;5;28mobject\u001b[39m \u001b[38;5;129;01mor\u001b[39;00m exog \u001b[38;5;129;01mis\u001b[39;00m \u001b[38;5;129;01mnot\u001b[39;00m \u001b[38;5;28;01mNone\u001b[39;00m \u001b[38;5;129;01mand\u001b[39;00m exog\u001b[38;5;241m.\u001b[39mdtype \u001b[38;5;241m==\u001b[39m \u001b[38;5;28mobject\u001b[39m:\n\u001b[0;32m--> 509\u001b[0m     \u001b[38;5;28;01mraise\u001b[39;00m \u001b[38;5;167;01mValueError\u001b[39;00m(\u001b[38;5;124m\"\u001b[39m\u001b[38;5;124mPandas data cast to numpy dtype of object. \u001b[39m\u001b[38;5;124m\"\u001b[39m\n\u001b[1;32m    510\u001b[0m                      \u001b[38;5;124m\"\u001b[39m\u001b[38;5;124mCheck input data with np.asarray(data).\u001b[39m\u001b[38;5;124m\"\u001b[39m)\n\u001b[1;32m    511\u001b[0m \u001b[38;5;28;01mreturn\u001b[39;00m \u001b[38;5;28msuper\u001b[39m()\u001b[38;5;241m.\u001b[39m_convert_endog_exog(endog, exog)\n",
      "\u001b[0;31mValueError\u001b[0m: Pandas data cast to numpy dtype of object. Check input data with np.asarray(data)."
     ]
    }
   ],
   "source": [
    "# Prepare the data for OLS regression\n",
    "import statsmodels.api as sm\n",
    "# Select features and target variable\n",
    "features = ['frequency', 'recency', 'transaction_amount', 'age','gender']\n",
    "target = 'tenure'\n",
    "\n",
    "# Split the data into training and test sets\n",
    "X = df_merged[features]\n",
    "y = df_merged[target]\n",
    "\n",
    "# Add a constant term for the intercept\n",
    "X = sm.add_constant(X)\n",
    "\n",
    "# Fit the OLS model\n",
    "ols_model = sm.OLS(y, X).fit()\n",
    "\n",
    "# Summary of the OLS regression\n",
    "ols_summary = ols_model.summary()\n",
    "\n",
    "print(ols_summary)"
   ]
  },
  {
   "cell_type": "code",
   "execution_count": 60,
   "metadata": {},
   "outputs": [
    {
     "name": "stdout",
     "output_type": "stream",
     "text": [
      "MSE: 1.4182977426716028e-23\n",
      "MAE: 2.905983009782176e-12\n",
      "R2 Score: 1.0\n"
     ]
    }
   ],
   "source": [
    "# Building a linear regression model based on the the recency, frequency, transaction_amount, lifetime value(ltv), age, gender and rfm-score\n",
    "features = ['recency', 'frequency', 'transaction_amount', 'age', 'gender', 'rfm_score']\n",
    "target = ['tenure']\n",
    "X = pd.get_dummies(df_merged[features], drop_first=True)\n",
    "y = df_merged['transaction_amount']\n",
    "\n",
    "# Splitting the data into training and testing sets\n",
    "X_train, X_test, y_train, y_test = train_test_split(X, y, test_size=0.2, random_state=42)\n",
    "\n",
    "# Training a Linear Regression model\n",
    "model = LinearRegression()\n",
    "model.fit(X_train, y_train)\n",
    "\n",
    "# Making predictions on the test set\n",
    "y_pred = model.predict(X_test)\n",
    "\n",
    "# Evaluating the model\n",
    "mse = mean_squared_error(y_test, y_pred)\n",
    "mae = mean_absolute_error(y_test, y_pred)\n",
    "r2 = r2_score(y_test, y_pred)\n",
    "\n",
    "print(f'MSE: {mse}')\n",
    "print(f'MAE: {mae}')\n",
    "print(f'R2 Score: {r2}')"
   ]
  },
  {
   "cell_type": "code",
   "execution_count": 49,
   "metadata": {},
   "outputs": [
    {
     "name": "stdout",
     "output_type": "stream",
     "text": [
      "Cross-validated MSE: 1.1459401602763905e-23\n",
      "Cross-validated MAE: 2.467353610313694e-12\n",
      "Cross-validated R² Score: 1.0\n"
     ]
    }
   ],
   "source": [
    "from sklearn.model_selection import cross_val_score\n",
    "\n",
    "# Performing 5-fold cross-validation\n",
    "cv_mse = cross_val_score(model, X, y, cv=5, scoring='neg_mean_squared_error')\n",
    "cv_mae = cross_val_score(model, X, y, cv=5, scoring='neg_mean_absolute_error')\n",
    "cv_r2 = cross_val_score(model, X, y, cv=5, scoring='r2')\n",
    "\n",
    "print(f'Cross-validated MSE: {-cv_mse.mean()}')\n",
    "print(f'Cross-validated MAE: {-cv_mae.mean()}')\n",
    "print(f'Cross-validated R² Score: {cv_r2.mean()}')"
   ]
  },
  {
   "cell_type": "code",
   "execution_count": 50,
   "metadata": {},
   "outputs": [],
   "source": [
    "#sns.boxplot(x='generation', y='customer_lifetime', data=df_merged)"
   ]
  },
  {
   "cell_type": "code",
   "execution_count": 51,
   "metadata": {},
   "outputs": [],
   "source": [
    "#df_merged['location'].unique()"
   ]
  },
  {
   "cell_type": "code",
   "execution_count": 52,
   "metadata": {},
   "outputs": [],
   "source": [
    "#fig, ((ax1, ax2, ax3),(ax4, ax5, ax6)) = plt.subplots(2,3, figsize=(8,8), sharey=False, sharex=True)\n",
    "#sns.scatterplot(x='temp', y='casual', data=df_merged, ax=ax1)\n",
    "#sns.scatterplot(x='temp', y='registered', data=df_merged, ax=ax2)\n",
    "#sns.scatterplot(x='temp', y='count', data=df_merged, ax=ax3)\n",
    "#sns.scatterplot(x='temp', y='casual', data=df_merged, ax=ax4)\n",
    "#sns.scatterplot(x='temp', y='registered', data=df_merged, ax=ax5)\n",
    "#sns.scatterplot(x='temp', y='count', data=df_merged, ax=ax6)"
   ]
  },
  {
   "cell_type": "code",
   "execution_count": 53,
   "metadata": {},
   "outputs": [],
   "source": [
    "#generation_dummies = pd.get_dummies(customers_df)"
   ]
  },
  {
   "cell_type": "code",
   "execution_count": 54,
   "metadata": {},
   "outputs": [],
   "source": [
    "# Define features and target variable\n",
    "#X = df_merged.drop(columns=['customer_id', 'transaction_amount'])\n",
    "#y = df_merged['transaction_amount']\n",
    "\n",
    "# Split the data into training and testing sets\n",
    "#X_train, X_test, y_train, y_test = train_test_split(X, y, test_size=0.2, random_state=42)\n",
    "\n",
    "# Initialize the model\n",
    "#lr_model = LinearRegression()\n",
    "\n",
    "# Train the model\n",
    "#lr_model.fit(X_train, y_train)\n",
    "\n",
    "# Make predictions\n",
    "#y_pred = lr_model.predict(X_test)\n",
    "\n",
    "# Evaluate the model\n",
    "#lr_mae = mean_absolute_error(y_test, y_pred)\n",
    "#lr_rmse = mean_squared_error(y_test, y_pred, squared=False)\n",
    "\n",
    "#print(f\"Linear Regression MAE: {lr_mae}, RMSE: {lr_rmse}\")"
   ]
  },
  {
   "cell_type": "code",
   "execution_count": 55,
   "metadata": {},
   "outputs": [],
   "source": [
    "#print(df_merged.columns)"
   ]
  },
  {
   "cell_type": "code",
   "execution_count": null,
   "metadata": {},
   "outputs": [],
   "source": []
  }
 ],
 "metadata": {
  "kernelspec": {
   "display_name": "Python 3",
   "language": "python",
   "name": "python3"
  },
  "language_info": {
   "codemirror_mode": {
    "name": "ipython",
    "version": 3
   },
   "file_extension": ".py",
   "mimetype": "text/x-python",
   "name": "python",
   "nbconvert_exporter": "python",
   "pygments_lexer": "ipython3",
   "version": "3.9.6"
  }
 },
 "nbformat": 4,
 "nbformat_minor": 2
}
